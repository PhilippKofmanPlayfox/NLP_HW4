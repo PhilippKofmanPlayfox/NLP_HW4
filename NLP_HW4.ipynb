{
  "nbformat": 4,
  "nbformat_minor": 0,
  "metadata": {
    "colab": {
      "name": "NLP_HW4.ipynb",
      "version": "0.3.2",
      "provenance": [],
      "collapsed_sections": []
    },
    "kernelspec": {
      "name": "python3",
      "display_name": "Python 3"
    }
  },
  "cells": [
    {
      "cell_type": "code",
      "metadata": {
        "id": "3zwua0C6D6bt",
        "colab_type": "code",
        "colab": {}
      },
      "source": [
        "# !unzip 1551.zip\n",
        "# ! rm -r __MACOSX\n",
        "# ! rm -r 1551.zip"
      ],
      "execution_count": 0,
      "outputs": []
    },
    {
      "cell_type": "code",
      "metadata": {
        "id": "Pq6VqbVNERUp",
        "colab_type": "code",
        "colab": {}
      },
      "source": [
        "import os\n",
        "import pandas as pd\n",
        "import numpy as np\n",
        "from tqdm import tqdm, tqdm_notebook"
      ],
      "execution_count": 0,
      "outputs": []
    },
    {
      "cell_type": "markdown",
      "metadata": {
        "id": "KrDFcJDSUQPO",
        "colab_type": "text"
      },
      "source": [
        "# Get Data"
      ]
    },
    {
      "cell_type": "code",
      "metadata": {
        "id": "Kj4Eon9PNy6D",
        "colab_type": "code",
        "colab": {}
      },
      "source": [
        "data = '1551/' \n",
        "\n",
        "class parse:\n",
        "    def __init__(self):\n",
        "        self.documents = []\n",
        "        self.state = \"empty\"\n",
        "        self.current = {}\n",
        "    \n",
        "    def process_line(self, line, category):\n",
        "        if line.strip().isnumeric():\n",
        "            self.state = \"id\"\n",
        "            self.current['id'] = line.strip().lower()\n",
        "        elif self.state == \"id\" or (self.state == 'text' and line != '\\n'):\n",
        "            self.state = 'text'\n",
        "            current_text = self.current.get(\"text\", \"\")\n",
        "            self.current['text'] = current_text + line.lower().replace(\"\\n\", \" \")\n",
        "        elif line == '\\n' and self.state != 'newline':\n",
        "            self.state = 'newline'\n",
        "        elif line == '\\n' and self.state == 'newline':\n",
        "            self.state = \"empty\"\n",
        "            self.current['category'] = category\n",
        "            self.documents.append(self.current)\n",
        "            self.current = {}\n",
        "parser = parse()\n",
        "\n",
        "def processfile(path, file_name):\n",
        "  ids = []\n",
        "  texts = []\n",
        "  with open(path + file_name) as f:\n",
        "    lines = f.readlines()\n",
        "    for line in lines:\n",
        "      parser.process_line(line, file_name.split('.')[0])\n",
        "        \n",
        "for file in  os.listdir(data):\n",
        "  processfile(data, file)\n",
        "  \n",
        "data = pd.DataFrame(parser.documents).dropna(axis=0)"
      ],
      "execution_count": 0,
      "outputs": []
    },
    {
      "cell_type": "code",
      "metadata": {
        "id": "C2E-hG63ERaH",
        "colab_type": "code",
        "colab": {
          "base_uri": "https://localhost:8080/",
          "height": 204
        },
        "outputId": "287685df-b42f-43cf-b020-1377c4baa463"
      },
      "source": [
        "data.head()"
      ],
      "execution_count": 51,
      "outputs": [
        {
          "output_type": "execute_result",
          "data": {
            "text/html": [
              "<div>\n",
              "<style scoped>\n",
              "    .dataframe tbody tr th:only-of-type {\n",
              "        vertical-align: middle;\n",
              "    }\n",
              "\n",
              "    .dataframe tbody tr th {\n",
              "        vertical-align: top;\n",
              "    }\n",
              "\n",
              "    .dataframe thead th {\n",
              "        text-align: right;\n",
              "    }\n",
              "</style>\n",
              "<table border=\"1\" class=\"dataframe\">\n",
              "  <thead>\n",
              "    <tr style=\"text-align: right;\">\n",
              "      <th></th>\n",
              "      <th>category</th>\n",
              "      <th>id</th>\n",
              "      <th>text</th>\n",
              "    </tr>\n",
              "  </thead>\n",
              "  <tbody>\n",
              "    <tr>\n",
              "      <th>0</th>\n",
              "      <td>Інші-Подяки</td>\n",
              "      <td>3179399</td>\n",
              "      <td>дякую за вивезене сміття, яке накопичувалось з...</td>\n",
              "    </tr>\n",
              "    <tr>\n",
              "      <th>1</th>\n",
              "      <td>Інші-Подяки</td>\n",
              "      <td>3160026</td>\n",
              "      <td>спасибо! воду включили. приношу свою благодарн...</td>\n",
              "    </tr>\n",
              "    <tr>\n",
              "      <th>2</th>\n",
              "      <td>Інші-Подяки</td>\n",
              "      <td>3158026</td>\n",
              "      <td>спасибо кровельщикам володе и руслану за добро...</td>\n",
              "    </tr>\n",
              "    <tr>\n",
              "      <th>3</th>\n",
              "      <td>Інші-Подяки</td>\n",
              "      <td>3141706</td>\n",
              "      <td>огромное спасибо, за то что началась работа по...</td>\n",
              "    </tr>\n",
              "    <tr>\n",
              "      <th>4</th>\n",
              "      <td>Інші-Подяки</td>\n",
              "      <td>2782837</td>\n",
              "      <td>кого цілувати не знаю. у 14 годин 20 хвилин по...</td>\n",
              "    </tr>\n",
              "  </tbody>\n",
              "</table>\n",
              "</div>"
            ],
            "text/plain": [
              "      category       id                                               text\n",
              "0  Інші-Подяки  3179399  дякую за вивезене сміття, яке накопичувалось з...\n",
              "1  Інші-Подяки  3160026  спасибо! воду включили. приношу свою благодарн...\n",
              "2  Інші-Подяки  3158026  спасибо кровельщикам володе и руслану за добро...\n",
              "3  Інші-Подяки  3141706  огромное спасибо, за то что началась работа по...\n",
              "4  Інші-Подяки  2782837  кого цілувати не знаю. у 14 годин 20 хвилин по..."
            ]
          },
          "metadata": {
            "tags": []
          },
          "execution_count": 51
        }
      ]
    },
    {
      "cell_type": "code",
      "metadata": {
        "id": "iPSXwzdIu8rR",
        "colab_type": "code",
        "colab": {
          "base_uri": "https://localhost:8080/",
          "height": 1000
        },
        "outputId": "42c2c740-4a4b-4b85-e2e4-8ae7fc2dc8ac"
      },
      "source": [
        "data.groupby('category').count()"
      ],
      "execution_count": 61,
      "outputs": [
        {
          "output_type": "execute_result",
          "data": {
            "text/html": [
              "<div>\n",
              "<style scoped>\n",
              "    .dataframe tbody tr th:only-of-type {\n",
              "        vertical-align: middle;\n",
              "    }\n",
              "\n",
              "    .dataframe tbody tr th {\n",
              "        vertical-align: top;\n",
              "    }\n",
              "\n",
              "    .dataframe thead th {\n",
              "        text-align: right;\n",
              "    }\n",
              "</style>\n",
              "<table border=\"1\" class=\"dataframe\">\n",
              "  <thead>\n",
              "    <tr style=\"text-align: right;\">\n",
              "      <th></th>\n",
              "      <th>id</th>\n",
              "      <th>text</th>\n",
              "    </tr>\n",
              "    <tr>\n",
              "      <th>category</th>\n",
              "      <th></th>\n",
              "      <th></th>\n",
              "    </tr>\n",
              "  </thead>\n",
              "  <tbody>\n",
              "    <tr>\n",
              "      <th>Інші-Подяки</th>\n",
              "      <td>515</td>\n",
              "      <td>515</td>\n",
              "    </tr>\n",
              "    <tr>\n",
              "      <th>Інші-технічні-недоліки-стану-ліфту</th>\n",
              "      <td>1450</td>\n",
              "      <td>1450</td>\n",
              "    </tr>\n",
              "    <tr>\n",
              "      <th>Аварійний--травмонебезпечний-стан-утримання-об-єктів-благоустрою</th>\n",
              "      <td>450</td>\n",
              "      <td>450</td>\n",
              "    </tr>\n",
              "    <tr>\n",
              "      <th>Бажаючі-отримати--Картки-киянина--КК--</th>\n",
              "      <td>114</td>\n",
              "      <td>114</td>\n",
              "    </tr>\n",
              "    <tr>\n",
              "      <th>Будівництво--дооблаштування-спортивних-майданчиків</th>\n",
              "      <td>162</td>\n",
              "      <td>162</td>\n",
              "    </tr>\n",
              "    <tr>\n",
              "      <th>Будівництво-АЗС</th>\n",
              "      <td>149</td>\n",
              "      <td>149</td>\n",
              "    </tr>\n",
              "    <tr>\n",
              "      <th>Будівництво-в-нічний-час</th>\n",
              "      <td>112</td>\n",
              "      <td>112</td>\n",
              "    </tr>\n",
              "    <tr>\n",
              "      <th>Будівництво-дооблаштування-дитячого-майданчику</th>\n",
              "      <td>1132</td>\n",
              "      <td>1132</td>\n",
              "    </tr>\n",
              "    <tr>\n",
              "      <th>Будівництво-та-реконструкція-об-єктів-освіти</th>\n",
              "      <td>160</td>\n",
              "      <td>160</td>\n",
              "    </tr>\n",
              "    <tr>\n",
              "      <th>Взаємовідносини-з-сусідами</th>\n",
              "      <td>172</td>\n",
              "      <td>172</td>\n",
              "    </tr>\n",
              "    <tr>\n",
              "      <th>Вивезення--утилізація-твердих-та-негабаритних-відходів</th>\n",
              "      <td>136</td>\n",
              "      <td>136</td>\n",
              "    </tr>\n",
              "    <tr>\n",
              "      <th>Видалення-аварійних--пошкоджених-хворобами-дерев</th>\n",
              "      <td>530</td>\n",
              "      <td>530</td>\n",
              "    </tr>\n",
              "    <tr>\n",
              "      <th>Видача-розрахункових-книжок--квитанцій--довідок</th>\n",
              "      <td>138</td>\n",
              "      <td>138</td>\n",
              "    </tr>\n",
              "    <tr>\n",
              "      <th>Вилов-безпритульних-тварин</th>\n",
              "      <td>240</td>\n",
              "      <td>240</td>\n",
              "    </tr>\n",
              "    <tr>\n",
              "      <th>Вирізування--кронування--гілля-дерев</th>\n",
              "      <td>388</td>\n",
              "      <td>388</td>\n",
              "    </tr>\n",
              "    <tr>\n",
              "      <th>Виток-холодної-води-на-поверхню</th>\n",
              "      <td>101</td>\n",
              "      <td>101</td>\n",
              "    </tr>\n",
              "    <tr>\n",
              "      <th>Вологе-прибирання-приміщень</th>\n",
              "      <td>742</td>\n",
              "      <td>742</td>\n",
              "    </tr>\n",
              "    <tr>\n",
              "      <th>Встановлення-лічильників-на-опалення-</th>\n",
              "      <td>709</td>\n",
              "      <td>709</td>\n",
              "    </tr>\n",
              "    <tr>\n",
              "      <th>Встановлення-огородження-зеленої-зони</th>\n",
              "      <td>580</td>\n",
              "      <td>580</td>\n",
              "    </tr>\n",
              "    <tr>\n",
              "      <th>Встановлення-пандусів</th>\n",
              "      <td>243</td>\n",
              "      <td>243</td>\n",
              "    </tr>\n",
              "    <tr>\n",
              "      <th>Встановлення-світлофора</th>\n",
              "      <td>312</td>\n",
              "      <td>312</td>\n",
              "    </tr>\n",
              "    <tr>\n",
              "      <th>Встановлення-сигнальних-стовпчиків--бар-єрних-огороджень-бордюрів</th>\n",
              "      <td>541</td>\n",
              "      <td>541</td>\n",
              "    </tr>\n",
              "    <tr>\n",
              "      <th>Встановлення-сміттєвих-контейнерів-та-урн-для-сміття</th>\n",
              "      <td>559</td>\n",
              "      <td>559</td>\n",
              "    </tr>\n",
              "    <tr>\n",
              "      <th>Встановлення-та-демонтаж-лавочок</th>\n",
              "      <td>290</td>\n",
              "      <td>290</td>\n",
              "    </tr>\n",
              "    <tr>\n",
              "      <th>Встановлення-та-експлуатація-дорожніх-знаків</th>\n",
              "      <td>549</td>\n",
              "      <td>549</td>\n",
              "    </tr>\n",
              "    <tr>\n",
              "      <th>Встановлення-та-експлуатація-лічильників-на-водопостачання</th>\n",
              "      <td>790</td>\n",
              "      <td>790</td>\n",
              "    </tr>\n",
              "    <tr>\n",
              "      <th>Встановлення-та-експлуатація-пристроїв-примусового-зниження-швидкості</th>\n",
              "      <td>348</td>\n",
              "      <td>348</td>\n",
              "    </tr>\n",
              "    <tr>\n",
              "      <th>Встановлення-та-експлуатація-шлагбаумів</th>\n",
              "      <td>164</td>\n",
              "      <td>164</td>\n",
              "    </tr>\n",
              "    <tr>\n",
              "      <th>Відновлення-благоустрою-після-вик--планових-аварійних-робіт-на-об-єктах-благоуст</th>\n",
              "      <td>2394</td>\n",
              "      <td>2394</td>\n",
              "    </tr>\n",
              "    <tr>\n",
              "      <th>Відсутнє-ХВП</th>\n",
              "      <td>1561</td>\n",
              "      <td>1561</td>\n",
              "    </tr>\n",
              "    <tr>\n",
              "      <th>...</th>\n",
              "      <td>...</td>\n",
              "      <td>...</td>\n",
              "    </tr>\n",
              "    <tr>\n",
              "      <th>Ремонт-та-обслуговування-ґанків</th>\n",
              "      <td>282</td>\n",
              "      <td>282</td>\n",
              "    </tr>\n",
              "    <tr>\n",
              "      <th>Ремонт-теплотрас--підключення</th>\n",
              "      <td>267</td>\n",
              "      <td>267</td>\n",
              "    </tr>\n",
              "    <tr>\n",
              "      <th>Ремонт-фасаду-будинку</th>\n",
              "      <td>251</td>\n",
              "      <td>251</td>\n",
              "    </tr>\n",
              "    <tr>\n",
              "      <th>Ремонт-і-обслуговування-сміттєпроводів-та-сміттєзбірників-в-приміщенні</th>\n",
              "      <td>483</td>\n",
              "      <td>483</td>\n",
              "    </tr>\n",
              "    <tr>\n",
              "      <th>Робота-світлофора</th>\n",
              "      <td>801</td>\n",
              "      <td>801</td>\n",
              "    </tr>\n",
              "    <tr>\n",
              "      <th>Робота-циркуляційної-системи</th>\n",
              "      <td>1007</td>\n",
              "      <td>1007</td>\n",
              "    </tr>\n",
              "    <tr>\n",
              "      <th>Розміщення-паркувальних-майданчиків</th>\n",
              "      <td>218</td>\n",
              "      <td>218</td>\n",
              "    </tr>\n",
              "    <tr>\n",
              "      <th>Розрахунки--нарахування-та-перерахунок-субсидій</th>\n",
              "      <td>183</td>\n",
              "      <td>183</td>\n",
              "    </tr>\n",
              "    <tr>\n",
              "      <th>Садіння-нових-дерев-і-кущів</th>\n",
              "      <td>237</td>\n",
              "      <td>237</td>\n",
              "    </tr>\n",
              "    <tr>\n",
              "      <th>Санітарний-стан-проїжджих-частин</th>\n",
              "      <td>110</td>\n",
              "      <td>110</td>\n",
              "    </tr>\n",
              "    <tr>\n",
              "      <th>Скління-та-ремонт-вікон-на-сходових-клітинах-</th>\n",
              "      <td>899</td>\n",
              "      <td>899</td>\n",
              "    </tr>\n",
              "    <tr>\n",
              "      <th>Скошування-трави</th>\n",
              "      <td>185</td>\n",
              "      <td>185</td>\n",
              "    </tr>\n",
              "    <tr>\n",
              "      <th>Спалювання-сміття--листя--гілок--відходів--тощо-</th>\n",
              "      <td>143</td>\n",
              "      <td>143</td>\n",
              "    </tr>\n",
              "    <tr>\n",
              "      <th>Стан-зливосточних-систем-проїжджих-частин-та-тротуарів</th>\n",
              "      <td>107</td>\n",
              "      <td>107</td>\n",
              "    </tr>\n",
              "    <tr>\n",
              "      <th>Стихійне-сміттєзвалище</th>\n",
              "      <td>729</td>\n",
              "      <td>729</td>\n",
              "    </tr>\n",
              "    <tr>\n",
              "      <th>Технічне-обслуговування-систем-тепло---водопостачання-та-водовідведення-і-зливов</th>\n",
              "      <td>928</td>\n",
              "      <td>928</td>\n",
              "    </tr>\n",
              "    <tr>\n",
              "      <th>Технічний-стан-мостів-та-шляхопроводів</th>\n",
              "      <td>115</td>\n",
              "      <td>115</td>\n",
              "    </tr>\n",
              "    <tr>\n",
              "      <th>Технічний-стан-проїжджих-частин-вулиць-та-тротуарів</th>\n",
              "      <td>2180</td>\n",
              "      <td>2180</td>\n",
              "    </tr>\n",
              "    <tr>\n",
              "      <th>Технічний-стан-підземних-пішохідних-переходів</th>\n",
              "      <td>381</td>\n",
              "      <td>381</td>\n",
              "    </tr>\n",
              "    <tr>\n",
              "      <th>Технічний-стан-пішохідниїх-доріжок--сходів-з-бетону--гравію</th>\n",
              "      <td>139</td>\n",
              "      <td>139</td>\n",
              "    </tr>\n",
              "    <tr>\n",
              "      <th>Удосконалення-організації-дорожнього-руху</th>\n",
              "      <td>301</td>\n",
              "      <td>301</td>\n",
              "    </tr>\n",
              "    <tr>\n",
              "      <th>Укладання-договорів-з-обслуговуючими-організаціями</th>\n",
              "      <td>154</td>\n",
              "      <td>154</td>\n",
              "    </tr>\n",
              "    <tr>\n",
              "      <th>Укладання-та-ремонт-асфальтного-покриття</th>\n",
              "      <td>6632</td>\n",
              "      <td>6632</td>\n",
              "    </tr>\n",
              "    <tr>\n",
              "      <th>Укладання-та-ремонт-тротуарної-плитки--брущатки-</th>\n",
              "      <td>280</td>\n",
              "      <td>280</td>\n",
              "    </tr>\n",
              "    <tr>\n",
              "      <th>Укладання-та-технічний-стан-бордюрного-каменю</th>\n",
              "      <td>119</td>\n",
              "      <td>119</td>\n",
              "    </tr>\n",
              "    <tr>\n",
              "      <th>Утримання-номерних-знаків-і-табличок-з-назвами-вулиць-на-будинках--і-спорудах</th>\n",
              "      <td>100</td>\n",
              "      <td>100</td>\n",
              "    </tr>\n",
              "    <tr>\n",
              "      <th>Утримання-парків-та-лісопарків-у-місті-Києві</th>\n",
              "      <td>399</td>\n",
              "      <td>399</td>\n",
              "    </tr>\n",
              "    <tr>\n",
              "      <th>Утримання-підвалів--колясочних-технічних-поверхів</th>\n",
              "      <td>1202</td>\n",
              "      <td>1202</td>\n",
              "    </tr>\n",
              "    <tr>\n",
              "      <th>Утримання-та-облаштування-клумб-та-газонів</th>\n",
              "      <td>351</td>\n",
              "      <td>351</td>\n",
              "    </tr>\n",
              "    <tr>\n",
              "      <th>Утримання-інформаційних-дошок-та--розклеювання-оголошень</th>\n",
              "      <td>146</td>\n",
              "      <td>146</td>\n",
              "    </tr>\n",
              "  </tbody>\n",
              "</table>\n",
              "<p>188 rows × 2 columns</p>\n",
              "</div>"
            ],
            "text/plain": [
              "                                                      id  text\n",
              "category                                                      \n",
              "Інші-Подяки                                          515   515\n",
              "Інші-технічні-недоліки-стану-ліфту                  1450  1450\n",
              "Аварійний--травмонебезпечний-стан-утримання-об-...   450   450\n",
              "Бажаючі-отримати--Картки-киянина--КК--               114   114\n",
              "Будівництво--дооблаштування-спортивних-майданчиків   162   162\n",
              "Будівництво-АЗС                                      149   149\n",
              "Будівництво-в-нічний-час                             112   112\n",
              "Будівництво-дооблаштування-дитячого-майданчику      1132  1132\n",
              "Будівництво-та-реконструкція-об-єктів-освіти         160   160\n",
              "Взаємовідносини-з-сусідами                           172   172\n",
              "Вивезення--утилізація-твердих-та-негабаритних-в...   136   136\n",
              "Видалення-аварійних--пошкоджених-хворобами-дерев     530   530\n",
              "Видача-розрахункових-книжок--квитанцій--довідок      138   138\n",
              "Вилов-безпритульних-тварин                           240   240\n",
              "Вирізування--кронування--гілля-дерев                 388   388\n",
              "Виток-холодної-води-на-поверхню                      101   101\n",
              "Вологе-прибирання-приміщень                          742   742\n",
              "Встановлення-лічильників-на-опалення-                709   709\n",
              "Встановлення-огородження-зеленої-зони                580   580\n",
              "Встановлення-пандусів                                243   243\n",
              "Встановлення-світлофора                              312   312\n",
              "Встановлення-сигнальних-стовпчиків--бар-єрних-о...   541   541\n",
              "Встановлення-сміттєвих-контейнерів-та-урн-для-с...   559   559\n",
              "Встановлення-та-демонтаж-лавочок                     290   290\n",
              "Встановлення-та-експлуатація-дорожніх-знаків         549   549\n",
              "Встановлення-та-експлуатація-лічильників-на-вод...   790   790\n",
              "Встановлення-та-експлуатація-пристроїв-примусов...   348   348\n",
              "Встановлення-та-експлуатація-шлагбаумів              164   164\n",
              "Відновлення-благоустрою-після-вик--планових-ава...  2394  2394\n",
              "Відсутнє-ХВП                                        1561  1561\n",
              "...                                                  ...   ...\n",
              "Ремонт-та-обслуговування-ґанків                      282   282\n",
              "Ремонт-теплотрас--підключення                        267   267\n",
              "Ремонт-фасаду-будинку                                251   251\n",
              "Ремонт-і-обслуговування-сміттєпроводів-та-смітт...   483   483\n",
              "Робота-світлофора                                    801   801\n",
              "Робота-циркуляційної-системи                        1007  1007\n",
              "Розміщення-паркувальних-майданчиків                  218   218\n",
              "Розрахунки--нарахування-та-перерахунок-субсидій      183   183\n",
              "Садіння-нових-дерев-і-кущів                          237   237\n",
              "Санітарний-стан-проїжджих-частин                     110   110\n",
              "Скління-та-ремонт-вікон-на-сходових-клітинах-        899   899\n",
              "Скошування-трави                                     185   185\n",
              "Спалювання-сміття--листя--гілок--відходів--тощо-     143   143\n",
              "Стан-зливосточних-систем-проїжджих-частин-та-тр...   107   107\n",
              "Стихійне-сміттєзвалище                               729   729\n",
              "Технічне-обслуговування-систем-тепло---водопост...   928   928\n",
              "Технічний-стан-мостів-та-шляхопроводів               115   115\n",
              "Технічний-стан-проїжджих-частин-вулиць-та-троту...  2180  2180\n",
              "Технічний-стан-підземних-пішохідних-переходів        381   381\n",
              "Технічний-стан-пішохідниїх-доріжок--сходів-з-бе...   139   139\n",
              "Удосконалення-організації-дорожнього-руху            301   301\n",
              "Укладання-договорів-з-обслуговуючими-організаціями   154   154\n",
              "Укладання-та-ремонт-асфальтного-покриття            6632  6632\n",
              "Укладання-та-ремонт-тротуарної-плитки--брущатки-     280   280\n",
              "Укладання-та-технічний-стан-бордюрного-каменю        119   119\n",
              "Утримання-номерних-знаків-і-табличок-з-назвами-...   100   100\n",
              "Утримання-парків-та-лісопарків-у-місті-Києві         399   399\n",
              "Утримання-підвалів--колясочних-технічних-поверхів   1202  1202\n",
              "Утримання-та-облаштування-клумб-та-газонів           351   351\n",
              "Утримання-інформаційних-дошок-та--розклеювання-...   146   146\n",
              "\n",
              "[188 rows x 2 columns]"
            ]
          },
          "metadata": {
            "tags": []
          },
          "execution_count": 61
        }
      ]
    },
    {
      "cell_type": "markdown",
      "metadata": {
        "id": "wlTG7CkhUWYZ",
        "colab_type": "text"
      },
      "source": [
        "# Gent embedings"
      ]
    },
    {
      "cell_type": "code",
      "metadata": {
        "id": "017FRwXPUVn4",
        "colab_type": "code",
        "colab": {
          "base_uri": "https://localhost:8080/",
          "height": 224
        },
        "outputId": "5fcb3fc6-d586-4667-d179-4042ed3c9e03"
      },
      "source": [
        "!wget http://lang.org.ua/static/downloads/models/news.lowercased.tokenized.word2vec.300d.bz2\n",
        "! bzip2 -d news.lowercased.tokenized.word2vec.300d.bz2"
      ],
      "execution_count": 52,
      "outputs": [
        {
          "output_type": "stream",
          "text": [
            "--2019-07-28 11:23:06--  http://lang.org.ua/static/downloads/models/news.lowercased.tokenized.word2vec.300d.bz2\n",
            "Resolving lang.org.ua (lang.org.ua)... 95.216.74.77\n",
            "Connecting to lang.org.ua (lang.org.ua)|95.216.74.77|:80... connected.\n",
            "HTTP request sent, awaiting response... 200 OK\n",
            "Length: 310107678 (296M) [application/octet-stream]\n",
            "Saving to: ‘news.lowercased.tokenized.word2vec.300d.bz2’\n",
            "\n",
            "news.lowercased.tok 100%[===================>] 295.74M  17.2MB/s    in 19s     \n",
            "\n",
            "2019-07-28 11:23:26 (15.7 MB/s) - ‘news.lowercased.tokenized.word2vec.300d.bz2’ saved [310107678/310107678]\n",
            "\n"
          ],
          "name": "stdout"
        }
      ]
    },
    {
      "cell_type": "code",
      "metadata": {
        "id": "5bB8lnI-UVrG",
        "colab_type": "code",
        "colab": {
          "base_uri": "https://localhost:8080/",
          "height": 71
        },
        "outputId": "b396b0d8-010c-4d9f-9c3e-f355be5afb0a"
      },
      "source": [
        "from gensim.models import Word2Vec\n",
        "import gensim\n",
        "\n",
        "model = gensim.models.KeyedVectors.load_word2vec_format(\"news.lowercased.tokenized.word2vec.300d\")"
      ],
      "execution_count": 53,
      "outputs": [
        {
          "output_type": "stream",
          "text": [
            "/usr/local/lib/python3.6/dist-packages/smart_open/smart_open_lib.py:398: UserWarning: This function is deprecated, use smart_open.open instead. See the migration notes for details: https://github.com/RaRe-Technologies/smart_open/blob/master/README.rst#migrating-to-the-new-open-function\n",
            "  'See the migration notes for details: %s' % _MIGRATION_NOTES_URL\n"
          ],
          "name": "stderr"
        }
      ]
    },
    {
      "cell_type": "markdown",
      "metadata": {
        "id": "iUkrJjJpvJYX",
        "colab_type": "text"
      },
      "source": [
        "# Create features and targets"
      ]
    },
    {
      "cell_type": "code",
      "metadata": {
        "id": "HEm9lmuvUVto",
        "colab_type": "code",
        "colab": {}
      },
      "source": [
        "count_target_labels = len(set(data['category'].values))\n",
        "filename2num = dict(zip(set(data['category'].values), range(count_target_labels)))"
      ],
      "execution_count": 0,
      "outputs": []
    },
    {
      "cell_type": "code",
      "metadata": {
        "id": "KbZWlAHKUK3l",
        "colab_type": "code",
        "colab": {}
      },
      "source": [
        "data['target'] = [filename2num[name] for name in data['category'].tolist()]"
      ],
      "execution_count": 0,
      "outputs": []
    },
    {
      "cell_type": "code",
      "metadata": {
        "id": "KkbyJ0a0ERcz",
        "colab_type": "code",
        "colab": {}
      },
      "source": [
        "def sentence2vec(sentence):\n",
        "  words = sentence.split(' ')\n",
        "  words = [w.replace('.', '') for w in words]\n",
        "  words = [w.replace(',', '') for w in words]\n",
        "  words = [w.replace('?', '') for w in words]\n",
        "  words = [w.replace('!', '') for w in words]\n",
        "  words = [w.replace('...', '') for w in words]\n",
        "  vec = np.array([np.array(model[w]) for w in words if w in model]).sum(axis=0)\n",
        "  \n",
        "  # print(vec.shape)\n",
        "  if vec.size == 0:\n",
        "    # print(sentence)\n",
        "    return np.random.rand(300)\n",
        "  \n",
        "  if (vec.shape != (300,)):\n",
        "    return np.random.rand(300)\n",
        "#     print(vec, vec.shape, vec.size)\n",
        "  return vec "
      ],
      "execution_count": 0,
      "outputs": []
    },
    {
      "cell_type": "code",
      "metadata": {
        "id": "bNiX6CrqOFA5",
        "colab_type": "code",
        "colab": {}
      },
      "source": [
        "vectors = np.array([sentence2vec(sent) for sent in data['text'].tolist()])\n",
        "target = np.array(data['target'])"
      ],
      "execution_count": 0,
      "outputs": []
    },
    {
      "cell_type": "code",
      "metadata": {
        "id": "mfga1sXoxru8",
        "colab_type": "code",
        "colab": {
          "base_uri": "https://localhost:8080/",
          "height": 34
        },
        "outputId": "2eb3e09a-673f-47e6-8134-22916226ca29"
      },
      "source": [
        "vectors.shape, target.shape"
      ],
      "execution_count": 205,
      "outputs": [
        {
          "output_type": "execute_result",
          "data": {
            "text/plain": [
              "((114724, 300), (114724,))"
            ]
          },
          "metadata": {
            "tags": []
          },
          "execution_count": 205
        }
      ]
    },
    {
      "cell_type": "code",
      "metadata": {
        "id": "6bQXl-kc1FaU",
        "colab_type": "code",
        "colab": {}
      },
      "source": [
        "from sklearn.model_selection import train_test_split \n",
        "\n",
        "X_train, X_test, y_train, y_test = train_test_split(vectors, target, test_size=0.30, random_state=1244)"
      ],
      "execution_count": 0,
      "outputs": []
    },
    {
      "cell_type": "code",
      "metadata": {
        "id": "hi9NdGNC1QK9",
        "colab_type": "code",
        "colab": {
          "base_uri": "https://localhost:8080/",
          "height": 34
        },
        "outputId": "ff4e4eca-d591-49f1-d065-818eab11c18b"
      },
      "source": [
        "X_train.shape, X_test.shape, y_train.shape, y_test.shape"
      ],
      "execution_count": 207,
      "outputs": [
        {
          "output_type": "execute_result",
          "data": {
            "text/plain": [
              "((80306, 300), (34418, 300), (80306,), (34418,))"
            ]
          },
          "metadata": {
            "tags": []
          },
          "execution_count": 207
        }
      ]
    },
    {
      "cell_type": "markdown",
      "metadata": {
        "id": "tkrf8JwJ0mXW",
        "colab_type": "text"
      },
      "source": [
        "##  1. У якості безйлайну використайте класифікатор kNN, який буде шукати найближчі за косинусною відстанню вектори запитів, утворені сумуванням векторів всіх слів запиту."
      ]
    },
    {
      "cell_type": "code",
      "metadata": {
        "id": "y7Msu20G0lvP",
        "colab_type": "code",
        "colab": {
          "base_uri": "https://localhost:8080/",
          "height": 68
        },
        "outputId": "759ba2bf-65dc-491d-8edf-ddeeabcea8be"
      },
      "source": [
        "from sklearn.neighbors import KNeighborsClassifier\n",
        "\n",
        "knn = KNeighborsClassifier(1, metric='cosine')\n",
        "knn.fit(X_train, y_train)"
      ],
      "execution_count": 209,
      "outputs": [
        {
          "output_type": "execute_result",
          "data": {
            "text/plain": [
              "KNeighborsClassifier(algorithm='auto', leaf_size=30, metric='cosine',\n",
              "                     metric_params=None, n_jobs=None, n_neighbors=1, p=2,\n",
              "                     weights='uniform')"
            ]
          },
          "metadata": {
            "tags": []
          },
          "execution_count": 209
        }
      ]
    },
    {
      "cell_type": "markdown",
      "metadata": {
        "id": "wAsCqWhy9w9G",
        "colab_type": "text"
      },
      "source": [
        "### 829h O_o"
      ]
    },
    {
      "cell_type": "code",
      "metadata": {
        "id": "QAWKGOo21AXK",
        "colab_type": "code",
        "colab": {
          "base_uri": "https://localhost:8080/",
          "height": 395
        },
        "outputId": "df5d18aa-a700-48d4-9d89-f74fef68eee3"
      },
      "source": [
        "res = []\n",
        "for x in tqdm(X_test):\n",
        "  predicted = knn.predict(X_test)\n",
        "  res.append(predicted)"
      ],
      "execution_count": 215,
      "outputs": [
        {
          "output_type": "stream",
          "text": [
            "  0%|          | 4/34418 [05:47<829:19:09, 86.75s/it]"
          ],
          "name": "stderr"
        },
        {
          "output_type": "error",
          "ename": "KeyboardInterrupt",
          "evalue": "ignored",
          "traceback": [
            "\u001b[0;31m---------------------------------------------------------------------------\u001b[0m",
            "\u001b[0;31mKeyboardInterrupt\u001b[0m                         Traceback (most recent call last)",
            "\u001b[0;32m<ipython-input-215-9b4ac1a569cd>\u001b[0m in \u001b[0;36m<module>\u001b[0;34m()\u001b[0m\n\u001b[1;32m      1\u001b[0m \u001b[0mres\u001b[0m \u001b[0;34m=\u001b[0m \u001b[0;34m[\u001b[0m\u001b[0;34m]\u001b[0m\u001b[0;34m\u001b[0m\u001b[0;34m\u001b[0m\u001b[0m\n\u001b[1;32m      2\u001b[0m \u001b[0;32mfor\u001b[0m \u001b[0mx\u001b[0m \u001b[0;32min\u001b[0m \u001b[0mtqdm\u001b[0m\u001b[0;34m(\u001b[0m\u001b[0mX_test\u001b[0m\u001b[0;34m)\u001b[0m\u001b[0;34m:\u001b[0m\u001b[0;34m\u001b[0m\u001b[0;34m\u001b[0m\u001b[0m\n\u001b[0;32m----> 3\u001b[0;31m   \u001b[0mpredicted\u001b[0m \u001b[0;34m=\u001b[0m \u001b[0mknn\u001b[0m\u001b[0;34m.\u001b[0m\u001b[0mpredict\u001b[0m\u001b[0;34m(\u001b[0m\u001b[0mX_test\u001b[0m\u001b[0;34m)\u001b[0m\u001b[0;34m\u001b[0m\u001b[0;34m\u001b[0m\u001b[0m\n\u001b[0m\u001b[1;32m      4\u001b[0m   \u001b[0mres\u001b[0m\u001b[0;34m.\u001b[0m\u001b[0mappend\u001b[0m\u001b[0;34m(\u001b[0m\u001b[0mpredicted\u001b[0m\u001b[0;34m)\u001b[0m\u001b[0;34m\u001b[0m\u001b[0;34m\u001b[0m\u001b[0m\n",
            "\u001b[0;32m/usr/local/lib/python3.6/dist-packages/sklearn/neighbors/classification.py\u001b[0m in \u001b[0;36mpredict\u001b[0;34m(self, X)\u001b[0m\n\u001b[1;32m    147\u001b[0m         \u001b[0mX\u001b[0m \u001b[0;34m=\u001b[0m \u001b[0mcheck_array\u001b[0m\u001b[0;34m(\u001b[0m\u001b[0mX\u001b[0m\u001b[0;34m,\u001b[0m \u001b[0maccept_sparse\u001b[0m\u001b[0;34m=\u001b[0m\u001b[0;34m'csr'\u001b[0m\u001b[0;34m)\u001b[0m\u001b[0;34m\u001b[0m\u001b[0;34m\u001b[0m\u001b[0m\n\u001b[1;32m    148\u001b[0m \u001b[0;34m\u001b[0m\u001b[0m\n\u001b[0;32m--> 149\u001b[0;31m         \u001b[0mneigh_dist\u001b[0m\u001b[0;34m,\u001b[0m \u001b[0mneigh_ind\u001b[0m \u001b[0;34m=\u001b[0m \u001b[0mself\u001b[0m\u001b[0;34m.\u001b[0m\u001b[0mkneighbors\u001b[0m\u001b[0;34m(\u001b[0m\u001b[0mX\u001b[0m\u001b[0;34m)\u001b[0m\u001b[0;34m\u001b[0m\u001b[0;34m\u001b[0m\u001b[0m\n\u001b[0m\u001b[1;32m    150\u001b[0m         \u001b[0mclasses_\u001b[0m \u001b[0;34m=\u001b[0m \u001b[0mself\u001b[0m\u001b[0;34m.\u001b[0m\u001b[0mclasses_\u001b[0m\u001b[0;34m\u001b[0m\u001b[0;34m\u001b[0m\u001b[0m\n\u001b[1;32m    151\u001b[0m         \u001b[0m_y\u001b[0m \u001b[0;34m=\u001b[0m \u001b[0mself\u001b[0m\u001b[0;34m.\u001b[0m\u001b[0m_y\u001b[0m\u001b[0;34m\u001b[0m\u001b[0;34m\u001b[0m\u001b[0m\n",
            "\u001b[0;32m/usr/local/lib/python3.6/dist-packages/sklearn/neighbors/base.py\u001b[0m in \u001b[0;36mkneighbors\u001b[0;34m(self, X, n_neighbors, return_distance)\u001b[0m\n\u001b[1;32m    432\u001b[0m                 \u001b[0mX\u001b[0m\u001b[0;34m,\u001b[0m \u001b[0mself\u001b[0m\u001b[0;34m.\u001b[0m\u001b[0m_fit_X\u001b[0m\u001b[0;34m,\u001b[0m \u001b[0mreduce_func\u001b[0m\u001b[0;34m=\u001b[0m\u001b[0mreduce_func\u001b[0m\u001b[0;34m,\u001b[0m\u001b[0;34m\u001b[0m\u001b[0;34m\u001b[0m\u001b[0m\n\u001b[1;32m    433\u001b[0m                 \u001b[0mmetric\u001b[0m\u001b[0;34m=\u001b[0m\u001b[0mself\u001b[0m\u001b[0;34m.\u001b[0m\u001b[0meffective_metric_\u001b[0m\u001b[0;34m,\u001b[0m \u001b[0mn_jobs\u001b[0m\u001b[0;34m=\u001b[0m\u001b[0mn_jobs\u001b[0m\u001b[0;34m,\u001b[0m\u001b[0;34m\u001b[0m\u001b[0;34m\u001b[0m\u001b[0m\n\u001b[0;32m--> 434\u001b[0;31m                 **kwds))\n\u001b[0m\u001b[1;32m    435\u001b[0m \u001b[0;34m\u001b[0m\u001b[0m\n\u001b[1;32m    436\u001b[0m         \u001b[0;32melif\u001b[0m \u001b[0mself\u001b[0m\u001b[0;34m.\u001b[0m\u001b[0m_fit_method\u001b[0m \u001b[0;32min\u001b[0m \u001b[0;34m[\u001b[0m\u001b[0;34m'ball_tree'\u001b[0m\u001b[0;34m,\u001b[0m \u001b[0;34m'kd_tree'\u001b[0m\u001b[0;34m]\u001b[0m\u001b[0;34m:\u001b[0m\u001b[0;34m\u001b[0m\u001b[0;34m\u001b[0m\u001b[0m\n",
            "\u001b[0;32m/usr/local/lib/python3.6/dist-packages/sklearn/metrics/pairwise.py\u001b[0m in \u001b[0;36mpairwise_distances_chunked\u001b[0;34m(X, Y, reduce_func, metric, n_jobs, working_memory, **kwds)\u001b[0m\n\u001b[1;32m   1446\u001b[0m             \u001b[0mX_chunk\u001b[0m \u001b[0;34m=\u001b[0m \u001b[0mX\u001b[0m\u001b[0;34m[\u001b[0m\u001b[0msl\u001b[0m\u001b[0;34m]\u001b[0m\u001b[0;34m\u001b[0m\u001b[0;34m\u001b[0m\u001b[0m\n\u001b[1;32m   1447\u001b[0m         D_chunk = pairwise_distances(X_chunk, Y, metric=metric,\n\u001b[0;32m-> 1448\u001b[0;31m                                      n_jobs=n_jobs, **kwds)\n\u001b[0m\u001b[1;32m   1449\u001b[0m         if ((X is Y or Y is None)\n\u001b[1;32m   1450\u001b[0m                 \u001b[0;32mand\u001b[0m \u001b[0mPAIRWISE_DISTANCE_FUNCTIONS\u001b[0m\u001b[0;34m.\u001b[0m\u001b[0mget\u001b[0m\u001b[0;34m(\u001b[0m\u001b[0mmetric\u001b[0m\u001b[0;34m,\u001b[0m \u001b[0;32mNone\u001b[0m\u001b[0;34m)\u001b[0m\u001b[0;34m\u001b[0m\u001b[0;34m\u001b[0m\u001b[0m\n",
            "\u001b[0;32m/usr/local/lib/python3.6/dist-packages/sklearn/metrics/pairwise.py\u001b[0m in \u001b[0;36mpairwise_distances\u001b[0;34m(X, Y, metric, n_jobs, **kwds)\u001b[0m\n\u001b[1;32m   1586\u001b[0m         \u001b[0mfunc\u001b[0m \u001b[0;34m=\u001b[0m \u001b[0mpartial\u001b[0m\u001b[0;34m(\u001b[0m\u001b[0mdistance\u001b[0m\u001b[0;34m.\u001b[0m\u001b[0mcdist\u001b[0m\u001b[0;34m,\u001b[0m \u001b[0mmetric\u001b[0m\u001b[0;34m=\u001b[0m\u001b[0mmetric\u001b[0m\u001b[0;34m,\u001b[0m \u001b[0;34m**\u001b[0m\u001b[0mkwds\u001b[0m\u001b[0;34m)\u001b[0m\u001b[0;34m\u001b[0m\u001b[0;34m\u001b[0m\u001b[0m\n\u001b[1;32m   1587\u001b[0m \u001b[0;34m\u001b[0m\u001b[0m\n\u001b[0;32m-> 1588\u001b[0;31m     \u001b[0;32mreturn\u001b[0m \u001b[0m_parallel_pairwise\u001b[0m\u001b[0;34m(\u001b[0m\u001b[0mX\u001b[0m\u001b[0;34m,\u001b[0m \u001b[0mY\u001b[0m\u001b[0;34m,\u001b[0m \u001b[0mfunc\u001b[0m\u001b[0;34m,\u001b[0m \u001b[0mn_jobs\u001b[0m\u001b[0;34m,\u001b[0m \u001b[0;34m**\u001b[0m\u001b[0mkwds\u001b[0m\u001b[0;34m)\u001b[0m\u001b[0;34m\u001b[0m\u001b[0;34m\u001b[0m\u001b[0m\n\u001b[0m\u001b[1;32m   1589\u001b[0m \u001b[0;34m\u001b[0m\u001b[0m\n\u001b[1;32m   1590\u001b[0m \u001b[0;34m\u001b[0m\u001b[0m\n",
            "\u001b[0;32m/usr/local/lib/python3.6/dist-packages/sklearn/metrics/pairwise.py\u001b[0m in \u001b[0;36m_parallel_pairwise\u001b[0;34m(X, Y, func, n_jobs, **kwds)\u001b[0m\n\u001b[1;32m   1204\u001b[0m \u001b[0;34m\u001b[0m\u001b[0m\n\u001b[1;32m   1205\u001b[0m     \u001b[0;32mif\u001b[0m \u001b[0meffective_n_jobs\u001b[0m\u001b[0;34m(\u001b[0m\u001b[0mn_jobs\u001b[0m\u001b[0;34m)\u001b[0m \u001b[0;34m==\u001b[0m \u001b[0;36m1\u001b[0m\u001b[0;34m:\u001b[0m\u001b[0;34m\u001b[0m\u001b[0;34m\u001b[0m\u001b[0m\n\u001b[0;32m-> 1206\u001b[0;31m         \u001b[0;32mreturn\u001b[0m \u001b[0mfunc\u001b[0m\u001b[0;34m(\u001b[0m\u001b[0mX\u001b[0m\u001b[0;34m,\u001b[0m \u001b[0mY\u001b[0m\u001b[0;34m,\u001b[0m \u001b[0;34m**\u001b[0m\u001b[0mkwds\u001b[0m\u001b[0;34m)\u001b[0m\u001b[0;34m\u001b[0m\u001b[0;34m\u001b[0m\u001b[0m\n\u001b[0m\u001b[1;32m   1207\u001b[0m \u001b[0;34m\u001b[0m\u001b[0m\n\u001b[1;32m   1208\u001b[0m     \u001b[0;31m# enforce a threading backend to prevent data communication overhead\u001b[0m\u001b[0;34m\u001b[0m\u001b[0;34m\u001b[0m\u001b[0;34m\u001b[0m\u001b[0m\n",
            "\u001b[0;32m/usr/local/lib/python3.6/dist-packages/sklearn/metrics/pairwise.py\u001b[0m in \u001b[0;36mcosine_distances\u001b[0;34m(X, Y)\u001b[0m\n\u001b[1;32m    679\u001b[0m     \"\"\"\n\u001b[1;32m    680\u001b[0m     \u001b[0;31m# 1.0 - cosine_similarity(X, Y) without copy\u001b[0m\u001b[0;34m\u001b[0m\u001b[0;34m\u001b[0m\u001b[0;34m\u001b[0m\u001b[0m\n\u001b[0;32m--> 681\u001b[0;31m     \u001b[0mS\u001b[0m \u001b[0;34m=\u001b[0m \u001b[0mcosine_similarity\u001b[0m\u001b[0;34m(\u001b[0m\u001b[0mX\u001b[0m\u001b[0;34m,\u001b[0m \u001b[0mY\u001b[0m\u001b[0;34m)\u001b[0m\u001b[0;34m\u001b[0m\u001b[0;34m\u001b[0m\u001b[0m\n\u001b[0m\u001b[1;32m    682\u001b[0m     \u001b[0mS\u001b[0m \u001b[0;34m*=\u001b[0m \u001b[0;34m-\u001b[0m\u001b[0;36m1\u001b[0m\u001b[0;34m\u001b[0m\u001b[0;34m\u001b[0m\u001b[0m\n\u001b[1;32m    683\u001b[0m     \u001b[0mS\u001b[0m \u001b[0;34m+=\u001b[0m \u001b[0;36m1\u001b[0m\u001b[0;34m\u001b[0m\u001b[0;34m\u001b[0m\u001b[0m\n",
            "\u001b[0;32m/usr/local/lib/python3.6/dist-packages/sklearn/metrics/pairwise.py\u001b[0m in \u001b[0;36mcosine_similarity\u001b[0;34m(X, Y, dense_output)\u001b[0m\n\u001b[1;32m   1034\u001b[0m \u001b[0;34m\u001b[0m\u001b[0m\n\u001b[1;32m   1035\u001b[0m     K = safe_sparse_dot(X_normalized, Y_normalized.T,\n\u001b[0;32m-> 1036\u001b[0;31m                         dense_output=dense_output)\n\u001b[0m\u001b[1;32m   1037\u001b[0m \u001b[0;34m\u001b[0m\u001b[0m\n\u001b[1;32m   1038\u001b[0m     \u001b[0;32mreturn\u001b[0m \u001b[0mK\u001b[0m\u001b[0;34m\u001b[0m\u001b[0;34m\u001b[0m\u001b[0m\n",
            "\u001b[0;32m/usr/local/lib/python3.6/dist-packages/sklearn/utils/extmath.py\u001b[0m in \u001b[0;36msafe_sparse_dot\u001b[0;34m(a, b, dense_output)\u001b[0m\n\u001b[1;32m    140\u001b[0m         \u001b[0;32mreturn\u001b[0m \u001b[0mret\u001b[0m\u001b[0;34m\u001b[0m\u001b[0;34m\u001b[0m\u001b[0m\n\u001b[1;32m    141\u001b[0m     \u001b[0;32melse\u001b[0m\u001b[0;34m:\u001b[0m\u001b[0;34m\u001b[0m\u001b[0;34m\u001b[0m\u001b[0m\n\u001b[0;32m--> 142\u001b[0;31m         \u001b[0;32mreturn\u001b[0m \u001b[0mnp\u001b[0m\u001b[0;34m.\u001b[0m\u001b[0mdot\u001b[0m\u001b[0;34m(\u001b[0m\u001b[0ma\u001b[0m\u001b[0;34m,\u001b[0m \u001b[0mb\u001b[0m\u001b[0;34m)\u001b[0m\u001b[0;34m\u001b[0m\u001b[0;34m\u001b[0m\u001b[0m\n\u001b[0m\u001b[1;32m    143\u001b[0m \u001b[0;34m\u001b[0m\u001b[0m\n\u001b[1;32m    144\u001b[0m \u001b[0;34m\u001b[0m\u001b[0m\n",
            "\u001b[0;31mKeyboardInterrupt\u001b[0m: "
          ]
        }
      ]
    },
    {
      "cell_type": "code",
      "metadata": {
        "id": "tY9ypG5o0lyL",
        "colab_type": "code",
        "colab": {
          "base_uri": "https://localhost:8080/",
          "height": 51
        },
        "outputId": "480464fd-5c50-40f6-942e-ce2ec51d672a"
      },
      "source": [
        "from sklearn.neighbors import NearestNeighbors\n",
        "knn = NearestNeighbors(1, n_jobs=-1, metric='cosine')\n",
        "knn.fit(X_train, y_train)"
      ],
      "execution_count": 218,
      "outputs": [
        {
          "output_type": "execute_result",
          "data": {
            "text/plain": [
              "NearestNeighbors(algorithm='auto', leaf_size=30, metric='cosine',\n",
              "                 metric_params=None, n_jobs=-1, n_neighbors=1, p=2, radius=1.0)"
            ]
          },
          "metadata": {
            "tags": []
          },
          "execution_count": 218
        }
      ]
    },
    {
      "cell_type": "code",
      "metadata": {
        "id": "CANTnv_Zz1bL",
        "colab_type": "code",
        "colab": {}
      },
      "source": [
        "y_pred = np.array(y_train)[neigh.kneighbors(X_test, 1, return_distance=False)].reshape(-1)"
      ],
      "execution_count": 0,
      "outputs": []
    },
    {
      "cell_type": "code",
      "metadata": {
        "id": "ZUJfgKiQ-1Tq",
        "colab_type": "code",
        "colab": {
          "base_uri": "https://localhost:8080/",
          "height": 34
        },
        "outputId": "2ae241b3-61a3-4a06-816e-15a8de3cdf43"
      },
      "source": [
        "from sklearn.metrics import f1_score\n",
        "f1_baseline_result = f1_score(y_pred, y_test, average='weighted')\n",
        "print(f'f1-score result of knn: {f1_baseline_result}')"
      ],
      "execution_count": 227,
      "outputs": [
        {
          "output_type": "stream",
          "text": [
            "f1-score result of knn: 0.3276459523646002\n"
          ],
          "name": "stdout"
        }
      ]
    },
    {
      "cell_type": "markdown",
      "metadata": {
        "id": "mpGW6iLDAxiV",
        "colab_type": "text"
      },
      "source": [
        "## 2. Розробіть покращений класифікатор, для якого використайте іншу модель класифікації, яка би присвоювала ваги окремим елементам вектора (наприклад, Logistic Regression, SVM, Random Forest). Також можете зробити додаткові покращення, такі як:\n",
        "\n",
        "- здійснювати попередню фільтрацію і відбирати тільки частину векторів для представлення\n",
        "\n",
        "- використовувати лематизацію та інші форми нормалізації\n",
        "\n",
        "- робити зваження векторів\n",
        "\n",
        "- додатково використовувати інші способи побудувати вектор документу (наприклад, TF-IDF, LDA, ...)"
      ]
    },
    {
      "cell_type": "markdown",
      "metadata": {
        "id": "JezVvqFmqlG5",
        "colab_type": "text"
      },
      "source": [
        "### Remove stopwords"
      ]
    },
    {
      "cell_type": "code",
      "metadata": {
        "id": "CGi35LnWAw6V",
        "colab_type": "code",
        "colab": {
          "base_uri": "https://localhost:8080/",
          "height": 224
        },
        "outputId": "0b4eee56-c545-4a7c-a4fa-d5f7e2c35680"
      },
      "source": [
        "!wget https://raw.githubusercontent.com/elastic/hunspell/master/src/resources/org/elasticsearch/analysis/hunspell/uk/stopwords.txt"
      ],
      "execution_count": 228,
      "outputs": [
        {
          "output_type": "stream",
          "text": [
            "--2019-07-28 14:38:00--  https://raw.githubusercontent.com/elastic/hunspell/master/src/resources/org/elasticsearch/analysis/hunspell/uk/stopwords.txt\n",
            "Resolving raw.githubusercontent.com (raw.githubusercontent.com)... 151.101.0.133, 151.101.64.133, 151.101.128.133, ...\n",
            "Connecting to raw.githubusercontent.com (raw.githubusercontent.com)|151.101.0.133|:443... connected.\n",
            "HTTP request sent, awaiting response... 200 OK\n",
            "Length: 1550 (1.5K) [text/plain]\n",
            "Saving to: ‘stopwords.txt’\n",
            "\n",
            "\rstopwords.txt         0%[                    ]       0  --.-KB/s               \rstopwords.txt       100%[===================>]   1.51K  --.-KB/s    in 0s      \n",
            "\n",
            "2019-07-28 14:38:00 (285 MB/s) - ‘stopwords.txt’ saved [1550/1550]\n",
            "\n"
          ],
          "name": "stdout"
        }
      ]
    },
    {
      "cell_type": "code",
      "metadata": {
        "id": "D6QY3_bC-1Wm",
        "colab_type": "code",
        "colab": {}
      },
      "source": [
        "with open('stopwords.txt') as f:\n",
        "  stopwords = f.read().split('\\n')[1:]"
      ],
      "execution_count": 0,
      "outputs": []
    },
    {
      "cell_type": "code",
      "metadata": {
        "id": "630g2r55-1ZS",
        "colab_type": "code",
        "colab": {}
      },
      "source": [
        "def sentence2vec2(sentence):\n",
        "  words = sentence.split(' ')\n",
        "  words = [w.replace('.', '') for w in words]\n",
        "  words = [w.replace(',', '') for w in words]\n",
        "  words = [w.replace('?', '') for w in words]\n",
        "  words = [w.replace('!', '') for w in words]\n",
        "  words = [w.replace('...', '') for w in words]\n",
        "  words = [w for w in words if w not in stopwords]\n",
        "  vec = np.array([np.array(model[w]) for w in words if w in model]).sum(axis=0)\n",
        "  \n",
        "  # print(vec.shape)\n",
        "  if vec.size == 0:\n",
        "    # print(sentence)\n",
        "    return np.random.rand(300)\n",
        "  \n",
        "  if (vec.shape != (300,)):\n",
        "    return np.random.rand(300)\n",
        "#     print(vec, vec.shape, vec.size)\n",
        "  return vec "
      ],
      "execution_count": 0,
      "outputs": []
    },
    {
      "cell_type": "code",
      "metadata": {
        "id": "mMSyPP9o-1cM",
        "colab_type": "code",
        "colab": {}
      },
      "source": [
        "vectors = np.array([sentence2vec2(sent) for sent in data['text'].tolist()])\n",
        "target = np.array(data['target'])"
      ],
      "execution_count": 0,
      "outputs": []
    },
    {
      "cell_type": "code",
      "metadata": {
        "id": "YcsmbJWTBnGr",
        "colab_type": "code",
        "colab": {
          "base_uri": "https://localhost:8080/",
          "height": 34
        },
        "outputId": "b34c5d75-4346-472e-954e-8bf796e9f822"
      },
      "source": [
        "vectors.shape, target.shape"
      ],
      "execution_count": 240,
      "outputs": [
        {
          "output_type": "execute_result",
          "data": {
            "text/plain": [
              "((114724, 300), (114724,))"
            ]
          },
          "metadata": {
            "tags": []
          },
          "execution_count": 240
        }
      ]
    },
    {
      "cell_type": "code",
      "metadata": {
        "id": "eF1X1rvcBnJq",
        "colab_type": "code",
        "colab": {}
      },
      "source": [
        "X_train, X_test, y_train, y_test = train_test_split(vectors, target, test_size=0.30, random_state=1244)"
      ],
      "execution_count": 0,
      "outputs": []
    },
    {
      "cell_type": "code",
      "metadata": {
        "id": "SBG1yItOBnNE",
        "colab_type": "code",
        "colab": {}
      },
      "source": [
        "from sklearn.linear_model import SGDClassifier\n",
        "from sklearn.ensemble import RandomForestClassifier, AdaBoostClassifier\n",
        "from sklearn.svm import SVC\n",
        "\n",
        "logreg = SGDClassifier(loss='log', alpha=0.00001, penalty='l1', max_iter=25, random_state=123, n_jobs=10, verbose=0)\n",
        "rf = RandomForestClassifier(max_depth=4, n_estimators=50, max_features=25,  random_state=123, n_jobs=10)\n",
        "# ab = AdaBoostClassifier()\n",
        "# svm = SVC(gamma=2, C=1)\n",
        "\n",
        "models = [logreg, rf]#, ab, svm]\n",
        "# model_names = ['Logistic', 'Forest', 'Boosting', 'SVM']\n",
        "model_names = ['Logistic', 'Forest']"
      ],
      "execution_count": 0,
      "outputs": []
    },
    {
      "cell_type": "code",
      "metadata": {
        "id": "miYy5bwQBnP2",
        "colab_type": "code",
        "colab": {
          "base_uri": "https://localhost:8080/",
          "height": 139
        },
        "outputId": "cca17d9f-cb23-412f-ab04-6dd929e65b5a"
      },
      "source": [
        "from sklearn.metrics import f1_score\n",
        "results = []\n",
        "for idx, model in enumerate(models):\n",
        "  model.fit(X_train, y_train)\n",
        "  y_pred = model.predict(X_test)\n",
        "  f1_sc = f1_score(y_pred, y_test, average='weighted')\n",
        "  print(f'f1-score result of {model_names[idx]}: {f1_sc}')"
      ],
      "execution_count": 271,
      "outputs": [
        {
          "output_type": "stream",
          "text": [
            "/usr/local/lib/python3.6/dist-packages/sklearn/linear_model/stochastic_gradient.py:561: ConvergenceWarning: Maximum number of iteration reached before convergence. Consider increasing max_iter to improve the fit.\n",
            "  ConvergenceWarning)\n"
          ],
          "name": "stderr"
        },
        {
          "output_type": "stream",
          "text": [
            "f1-score result of Logistic: 0.30157754249550667\n",
            "f1-score result of Forest: 0.2470947914217976\n"
          ],
          "name": "stdout"
        },
        {
          "output_type": "stream",
          "text": [
            "/usr/local/lib/python3.6/dist-packages/sklearn/metrics/classification.py:1439: UndefinedMetricWarning: F-score is ill-defined and being set to 0.0 in labels with no true samples.\n",
            "  'recall', 'true', average, warn_for)\n"
          ],
          "name": "stderr"
        }
      ]
    },
    {
      "cell_type": "markdown",
      "metadata": {
        "id": "pJxHaXscdNlp",
        "colab_type": "text"
      },
      "source": [
        "### f1-score result of LogisticRegression: 0.30157754249550667\n",
        "### f1-score result of RandomForest: 0.2470947914217976"
      ]
    },
    {
      "cell_type": "markdown",
      "metadata": {
        "id": "yK-KfEJffPnQ",
        "colab_type": "text"
      },
      "source": [
        "# Add weights TF-IDF"
      ]
    },
    {
      "cell_type": "code",
      "metadata": {
        "id": "xvHCo_bg-1e7",
        "colab_type": "code",
        "colab": {}
      },
      "source": [
        "import collections\n",
        "\n",
        "def compute_tf(text):\n",
        "    tf_text = collections.Counter(text)\n",
        "    for i in tf_text:\n",
        "        tf_text[i] = tf_text[i]/float(len(text))\n",
        "\n",
        "    return tf_text"
      ],
      "execution_count": 0,
      "outputs": []
    },
    {
      "cell_type": "code",
      "metadata": {
        "id": "eZckSucddbhL",
        "colab_type": "code",
        "colab": {}
      },
      "source": [
        "def compute_idf(word, corpus):\n",
        "  return np.log(len(corpus)/sum([1.0 for i in corpus if word in i]))"
      ],
      "execution_count": 0,
      "outputs": []
    },
    {
      "cell_type": "code",
      "metadata": {
        "id": "tfc-XIIVdbnM",
        "colab_type": "code",
        "colab": {}
      },
      "source": [
        "\n",
        "def sentence2vec3(words, corpus):\n",
        "  vec = np.array([compute_tf(text)[w] * compute_idf(w, corpus) * np.array(model[w]) for w in words if w in model]).sum(axis=0)\n",
        "  if vec.size == 0:\n",
        "    return np.random.rand(300)\n",
        "  \n",
        "  if (vec.shape != (300,)):\n",
        "    return np.random.rand(300)\n",
        "  return vec "
      ],
      "execution_count": 0,
      "outputs": []
    },
    {
      "cell_type": "code",
      "metadata": {
        "id": "QXf7Olq7gR_M",
        "colab_type": "code",
        "colab": {}
      },
      "source": [
        "def get_words(DATA):\n",
        "  corpus = []\n",
        "  for sentence in DATA:\n",
        "    words = sentence.split(' ')\n",
        "    words = [w.replace('.', '') for w in words]\n",
        "    words = [w.replace(',', '') for w in words]\n",
        "    words = [w.replace('?', '') for w in words]\n",
        "    words = [w.replace('!', '') for w in words]\n",
        "    words = [w.replace('...', '') for w in words]\n",
        "    words = [w for w in words if w not in stopwords]\n",
        "    corpus.append(words)\n",
        "  return corpus"
      ],
      "execution_count": 0,
      "outputs": []
    },
    {
      "cell_type": "code",
      "metadata": {
        "id": "u2A8qTgjf16A",
        "colab_type": "code",
        "colab": {}
      },
      "source": [
        "corpus = get_words(data['text'].tolist())\n",
        "vectors = np.array([sentence2vec3(sent, corpus) for sent in corpus])\n",
        "target = np.array(data['target'])"
      ],
      "execution_count": 0,
      "outputs": []
    },
    {
      "cell_type": "code",
      "metadata": {
        "id": "Dqn4t7yef19R",
        "colab_type": "code",
        "colab": {
          "base_uri": "https://localhost:8080/",
          "height": 34
        },
        "outputId": "c68f5e2c-0b13-489f-b71a-d612151d1b19"
      },
      "source": [
        "vectors.shape, target.shape"
      ],
      "execution_count": 283,
      "outputs": [
        {
          "output_type": "execute_result",
          "data": {
            "text/plain": [
              "((114724, 300), (114724,))"
            ]
          },
          "metadata": {
            "tags": []
          },
          "execution_count": 283
        }
      ]
    },
    {
      "cell_type": "code",
      "metadata": {
        "id": "P0CfK2Rvf2Ab",
        "colab_type": "code",
        "colab": {}
      },
      "source": [
        "X_train, X_test, y_train, y_test = train_test_split(vectors, target, test_size=0.30, random_state=1244)"
      ],
      "execution_count": 0,
      "outputs": []
    },
    {
      "cell_type": "code",
      "metadata": {
        "id": "v42vixJviVzD",
        "colab_type": "code",
        "colab": {}
      },
      "source": [
        "logreg = SGDClassifier(loss='log', alpha=0.00001, penalty='l1', max_iter=40, random_state=123, n_jobs=10, verbose=0)\n",
        "rf = RandomForestClassifier(max_depth=4, n_estimators=50, max_features=40,  random_state=123, n_jobs=10)\n",
        "\n",
        "models = [logreg, rf]\n",
        "model_names = ['Logistic', 'Forest']"
      ],
      "execution_count": 0,
      "outputs": []
    },
    {
      "cell_type": "code",
      "metadata": {
        "id": "yi-LiaJDiV2U",
        "colab_type": "code",
        "colab": {
          "base_uri": "https://localhost:8080/",
          "height": 139
        },
        "outputId": "0e13ea4f-809b-496d-8726-53c9ce373e18"
      },
      "source": [
        "results = []\n",
        "for idx, model in enumerate(models):\n",
        "  model.fit(X_train, y_train)\n",
        "  y_pred = model.predict(X_test)\n",
        "  f1_sc = f1_score(y_pred, y_test, average='weighted')\n",
        "  print(f'f1-score result of {model_names[idx]}: {f1_sc}')"
      ],
      "execution_count": 287,
      "outputs": [
        {
          "output_type": "stream",
          "text": [
            "/usr/local/lib/python3.6/dist-packages/sklearn/metrics/classification.py:1439: UndefinedMetricWarning: F-score is ill-defined and being set to 0.0 in labels with no true samples.\n",
            "  'recall', 'true', average, warn_for)\n"
          ],
          "name": "stderr"
        },
        {
          "output_type": "stream",
          "text": [
            "f1-score result of Logistic: 0.14432135660409157\n",
            "f1-score result of Forest: 0.20888842631140717\n"
          ],
          "name": "stdout"
        },
        {
          "output_type": "stream",
          "text": [
            "/usr/local/lib/python3.6/dist-packages/sklearn/metrics/classification.py:1439: UndefinedMetricWarning: F-score is ill-defined and being set to 0.0 in labels with no true samples.\n",
            "  'recall', 'true', average, warn_for)\n"
          ],
          "name": "stderr"
        }
      ]
    },
    {
      "cell_type": "markdown",
      "metadata": {
        "id": "_3M-U8gklSHN",
        "colab_type": "text"
      },
      "source": [
        "### f1-score result of LogisticRegression: 0.14432135660409157\n",
        "### f1-score result of RandomForest: 0.20888842631140717"
      ]
    },
    {
      "cell_type": "markdown",
      "metadata": {
        "id": "bNmpzOkFlYhQ",
        "colab_type": "text"
      },
      "source": [
        "# Use only TF\n"
      ]
    },
    {
      "cell_type": "code",
      "metadata": {
        "id": "O3uNMsbhiV5Z",
        "colab_type": "code",
        "colab": {}
      },
      "source": [
        "def sentence2vec4(words):\n",
        "  vec = np.array([compute_tf(text)[w] * np.array(model[w]) for w in words if w in model]).sum(axis=0)\n",
        "  if vec.size == 0:\n",
        "    return np.random.rand(300)\n",
        "  \n",
        "  if (vec.shape != (300,)):\n",
        "    return np.random.rand(300)\n",
        "  return vec "
      ],
      "execution_count": 0,
      "outputs": []
    },
    {
      "cell_type": "code",
      "metadata": {
        "id": "2hYHWmYDlXlR",
        "colab_type": "code",
        "colab": {}
      },
      "source": [
        "corpus = get_words(data['text'].tolist())\n",
        "vectors = np.array([sentence2vec4(sent) for sent in corpus])\n",
        "target = np.array(data['target'])"
      ],
      "execution_count": 0,
      "outputs": []
    },
    {
      "cell_type": "code",
      "metadata": {
        "id": "jLua83lXlXoZ",
        "colab_type": "code",
        "colab": {
          "base_uri": "https://localhost:8080/",
          "height": 34
        },
        "outputId": "680be130-bc40-4b69-b1b4-b80907d28c2a"
      },
      "source": [
        "vectors.shape, target.shape"
      ],
      "execution_count": 291,
      "outputs": [
        {
          "output_type": "execute_result",
          "data": {
            "text/plain": [
              "((114724, 300), (114724,))"
            ]
          },
          "metadata": {
            "tags": []
          },
          "execution_count": 291
        }
      ]
    },
    {
      "cell_type": "code",
      "metadata": {
        "id": "qBfiJbluf2Dv",
        "colab_type": "code",
        "colab": {}
      },
      "source": [
        "X_train, X_test, y_train, y_test = train_test_split(vectors, target, test_size=0.30, random_state=1244)"
      ],
      "execution_count": 0,
      "outputs": []
    },
    {
      "cell_type": "code",
      "metadata": {
        "id": "Ms_ksx3AlmOg",
        "colab_type": "code",
        "colab": {}
      },
      "source": [
        "logreg = SGDClassifier(loss='log', alpha=0.00001, penalty='l1', max_iter=40, random_state=123, n_jobs=10, verbose=0)\n",
        "rf = RandomForestClassifier(max_depth=4, n_estimators=50, max_features=40,  random_state=123, n_jobs=10)\n",
        "\n",
        "models = [logreg, rf]\n",
        "model_names = ['Logistic', 'Forest']"
      ],
      "execution_count": 0,
      "outputs": []
    },
    {
      "cell_type": "code",
      "metadata": {
        "id": "yO9z9Q6ClmRN",
        "colab_type": "code",
        "colab": {
          "base_uri": "https://localhost:8080/",
          "height": 139
        },
        "outputId": "ac29d75b-117b-4735-cf28-6cc305499dab"
      },
      "source": [
        "results = []\n",
        "for idx, model in enumerate(models):\n",
        "  model.fit(X_train, y_train)\n",
        "  y_pred = model.predict(X_test)\n",
        "  f1_sc = f1_score(y_pred, y_test, average='weighted')\n",
        "  print(f'f1-score result of {model_names[idx]}: {f1_sc}') "
      ],
      "execution_count": 294,
      "outputs": [
        {
          "output_type": "stream",
          "text": [
            "/usr/local/lib/python3.6/dist-packages/sklearn/metrics/classification.py:1439: UndefinedMetricWarning: F-score is ill-defined and being set to 0.0 in labels with no true samples.\n",
            "  'recall', 'true', average, warn_for)\n"
          ],
          "name": "stderr"
        },
        {
          "output_type": "stream",
          "text": [
            "f1-score result of Logistic: 0.03932536175297439\n",
            "f1-score result of Forest: 0.20888842631140717\n"
          ],
          "name": "stdout"
        },
        {
          "output_type": "stream",
          "text": [
            "/usr/local/lib/python3.6/dist-packages/sklearn/metrics/classification.py:1439: UndefinedMetricWarning: F-score is ill-defined and being set to 0.0 in labels with no true samples.\n",
            "  'recall', 'true', average, warn_for)\n"
          ],
          "name": "stderr"
        }
      ]
    },
    {
      "cell_type": "markdown",
      "metadata": {
        "id": "T2NXuE8Vo3rU",
        "colab_type": "text"
      },
      "source": [
        "### f1-score result of LogisticRegression: 0.03932536175297439\n",
        "### f1-score result of RandomForest: 0.20888842631140717"
      ]
    },
    {
      "cell_type": "markdown",
      "metadata": {
        "id": "wsry3qtGq80d",
        "colab_type": "text"
      },
      "source": [
        "# NN"
      ]
    },
    {
      "cell_type": "code",
      "metadata": {
        "id": "0bwBaC2Po2zy",
        "colab_type": "code",
        "colab": {}
      },
      "source": [
        "vectors = np.array([sentence2vec(sent) for sent in data['text'].tolist()])\n",
        "target = np.array(data['target'])"
      ],
      "execution_count": 0,
      "outputs": []
    },
    {
      "cell_type": "code",
      "metadata": {
        "id": "dF8B5sVsq7_v",
        "colab_type": "code",
        "colab": {
          "base_uri": "https://localhost:8080/",
          "height": 34
        },
        "outputId": "c51205cc-3ebe-4caf-aba3-c6707f79645c"
      },
      "source": [
        "vectors.shape, target.shape"
      ],
      "execution_count": 296,
      "outputs": [
        {
          "output_type": "execute_result",
          "data": {
            "text/plain": [
              "((114724, 300), (114724,))"
            ]
          },
          "metadata": {
            "tags": []
          },
          "execution_count": 296
        }
      ]
    },
    {
      "cell_type": "code",
      "metadata": {
        "id": "h06G5Kvzq8FX",
        "colab_type": "code",
        "colab": {}
      },
      "source": [
        "X_train, X_test, y_train, y_test = train_test_split(vectors, target, test_size=0.30, random_state=1244)"
      ],
      "execution_count": 0,
      "outputs": []
    },
    {
      "cell_type": "code",
      "metadata": {
        "id": "Ptu8KAw8q8IQ",
        "colab_type": "code",
        "colab": {}
      },
      "source": [
        "import keras\n",
        "from keras.datasets import mnist\n",
        "from keras.models import Sequential, Model\n",
        "from keras.layers import Input, Dense, Dropout, Flatten\n",
        "from keras.layers import Conv2D, MaxPooling2D\n",
        "from keras import backend as K"
      ],
      "execution_count": 0,
      "outputs": []
    },
    {
      "cell_type": "code",
      "metadata": {
        "id": "-Oals3rTrmUA",
        "colab_type": "code",
        "colab": {}
      },
      "source": [
        "# len(set(y_train)), len(set(y_test)), "
      ],
      "execution_count": 0,
      "outputs": []
    },
    {
      "cell_type": "code",
      "metadata": {
        "id": "owwX0wdrs4ON",
        "colab_type": "code",
        "colab": {
          "base_uri": "https://localhost:8080/",
          "height": 34
        },
        "outputId": "1af6a63c-6e0c-4bc3-dbd6-d375295e2642"
      },
      "source": [
        "X_train.shape[1:]"
      ],
      "execution_count": 309,
      "outputs": [
        {
          "output_type": "execute_result",
          "data": {
            "text/plain": [
              "(300,)"
            ]
          },
          "metadata": {
            "tags": []
          },
          "execution_count": 309
        }
      ]
    },
    {
      "cell_type": "code",
      "metadata": {
        "id": "o-W15aLyq8LB",
        "colab_type": "code",
        "colab": {}
      },
      "source": [
        "num_classes = len(set(y_train))\n",
        "\n",
        "input = Input(shape=X_train.shape[1:])\n",
        "x = Dense(420, activation='relu')(input)\n",
        "x = Dropout(0.3)(x)\n",
        "x = Dense(256, activation='relu')(x)\n",
        "x = Dropout(0.3)(x)\n",
        "x = Dense(128, activation='relu')(x)\n",
        "x = Dense(num_classes, activation='softmax')(x)\n",
        "model = Model(input, x)\n",
        "\n",
        "model.compile(loss=keras.losses.categorical_crossentropy,\n",
        "              optimizer=keras.optimizers.Adam(),\n",
        "              metrics=['accuracy'])\n"
      ],
      "execution_count": 0,
      "outputs": []
    },
    {
      "cell_type": "code",
      "metadata": {
        "id": "2gSz4MJTtTL3",
        "colab_type": "code",
        "colab": {}
      },
      "source": [
        "size_target = y_train.shape[0], len(set(y_train))\n",
        "\n",
        "y_train_nn = np.zeros(size_target)\n",
        "for idx, elem in enumerate(y_train):\n",
        "  y_train_nn[idx, elem] = 1"
      ],
      "execution_count": 0,
      "outputs": []
    },
    {
      "cell_type": "code",
      "metadata": {
        "id": "md906ZVDo23b",
        "colab_type": "code",
        "colab": {
          "base_uri": "https://localhost:8080/",
          "height": 1000
        },
        "outputId": "07f3fd68-3da9-4e05-9f0d-273f4238fff2"
      },
      "source": [
        "history = model.fit(X_train, y_train_nn, validation_split=0.3, batch_size=64, epochs=50, verbose=1)"
      ],
      "execution_count": 352,
      "outputs": [
        {
          "output_type": "stream",
          "text": [
            "Train on 56214 samples, validate on 24092 samples\n",
            "Epoch 1/50\n",
            "56214/56214 [==============================] - 8s 147us/step - loss: 4.4215 - acc: 0.1159 - val_loss: 4.4303 - val_acc: 0.1139\n",
            "Epoch 2/50\n",
            "56214/56214 [==============================] - 8s 146us/step - loss: 4.4214 - acc: 0.1159 - val_loss: 4.4311 - val_acc: 0.1139\n",
            "Epoch 3/50\n",
            "56214/56214 [==============================] - 8s 144us/step - loss: 4.4215 - acc: 0.1159 - val_loss: 4.4317 - val_acc: 0.1139\n",
            "Epoch 4/50\n",
            "56214/56214 [==============================] - 8s 141us/step - loss: 4.4217 - acc: 0.1159 - val_loss: 4.4312 - val_acc: 0.1139\n",
            "Epoch 5/50\n",
            "56214/56214 [==============================] - 8s 142us/step - loss: 4.4217 - acc: 0.1159 - val_loss: 4.4316 - val_acc: 0.1139\n",
            "Epoch 6/50\n",
            "56214/56214 [==============================] - 8s 145us/step - loss: 4.4216 - acc: 0.1159 - val_loss: 4.4317 - val_acc: 0.1139\n",
            "Epoch 7/50\n",
            "56214/56214 [==============================] - 8s 141us/step - loss: 4.4215 - acc: 0.1159 - val_loss: 4.4314 - val_acc: 0.1139\n",
            "Epoch 8/50\n",
            "56214/56214 [==============================] - 8s 144us/step - loss: 4.4215 - acc: 0.1159 - val_loss: 4.4313 - val_acc: 0.1139\n",
            "Epoch 9/50\n",
            "56214/56214 [==============================] - 8s 145us/step - loss: 4.4216 - acc: 0.1159 - val_loss: 4.4316 - val_acc: 0.1139\n",
            "Epoch 10/50\n",
            "56214/56214 [==============================] - 8s 149us/step - loss: 4.4216 - acc: 0.1159 - val_loss: 4.4321 - val_acc: 0.1139\n",
            "Epoch 11/50\n",
            "56214/56214 [==============================] - 8s 147us/step - loss: 4.4215 - acc: 0.1159 - val_loss: 4.4314 - val_acc: 0.1139\n",
            "Epoch 12/50\n",
            "56214/56214 [==============================] - 8s 149us/step - loss: 4.4216 - acc: 0.1159 - val_loss: 4.4312 - val_acc: 0.1139\n",
            "Epoch 13/50\n",
            "56214/56214 [==============================] - 8s 148us/step - loss: 4.4215 - acc: 0.1159 - val_loss: 4.4312 - val_acc: 0.1139\n",
            "Epoch 14/50\n",
            "56214/56214 [==============================] - 8s 147us/step - loss: 4.4216 - acc: 0.1159 - val_loss: 4.4314 - val_acc: 0.1139\n",
            "Epoch 15/50\n",
            "56214/56214 [==============================] - 8s 148us/step - loss: 4.4213 - acc: 0.1159 - val_loss: 4.4311 - val_acc: 0.1139\n",
            "Epoch 16/50\n",
            "56214/56214 [==============================] - 8s 149us/step - loss: 4.4215 - acc: 0.1159 - val_loss: 4.4314 - val_acc: 0.1139\n",
            "Epoch 17/50\n",
            "56214/56214 [==============================] - 8s 149us/step - loss: 4.4214 - acc: 0.1159 - val_loss: 4.4313 - val_acc: 0.1139\n",
            "Epoch 18/50\n",
            "56214/56214 [==============================] - 9s 151us/step - loss: 4.4214 - acc: 0.1159 - val_loss: 4.4327 - val_acc: 0.1139\n",
            "Epoch 19/50\n",
            "56214/56214 [==============================] - 8s 148us/step - loss: 4.4217 - acc: 0.1159 - val_loss: 4.4310 - val_acc: 0.1139\n",
            "Epoch 20/50\n",
            "56214/56214 [==============================] - 9s 153us/step - loss: 4.4215 - acc: 0.1159 - val_loss: 4.4311 - val_acc: 0.1139\n",
            "Epoch 21/50\n",
            "56214/56214 [==============================] - 9s 153us/step - loss: 4.4213 - acc: 0.1159 - val_loss: 4.4313 - val_acc: 0.1139\n",
            "Epoch 22/50\n",
            "56214/56214 [==============================] - 9s 158us/step - loss: 4.4215 - acc: 0.1159 - val_loss: 4.4315 - val_acc: 0.1139\n",
            "Epoch 23/50\n",
            "56214/56214 [==============================] - 8s 145us/step - loss: 4.4213 - acc: 0.1159 - val_loss: 4.4323 - val_acc: 0.1139\n",
            "Epoch 24/50\n",
            "56214/56214 [==============================] - 8s 149us/step - loss: 4.4213 - acc: 0.1159 - val_loss: 4.4317 - val_acc: 0.1139\n",
            "Epoch 25/50\n",
            "56214/56214 [==============================] - 8s 148us/step - loss: 4.4214 - acc: 0.1159 - val_loss: 4.4311 - val_acc: 0.1139\n",
            "Epoch 26/50\n",
            "56214/56214 [==============================] - 8s 147us/step - loss: 4.4213 - acc: 0.1159 - val_loss: 4.4316 - val_acc: 0.1139\n",
            "Epoch 27/50\n",
            "56214/56214 [==============================] - 8s 146us/step - loss: 4.4214 - acc: 0.1159 - val_loss: 4.4316 - val_acc: 0.1139\n",
            "Epoch 28/50\n",
            "56214/56214 [==============================] - 8s 148us/step - loss: 4.4213 - acc: 0.1159 - val_loss: 4.4311 - val_acc: 0.1139\n",
            "Epoch 29/50\n",
            "56214/56214 [==============================] - 8s 146us/step - loss: 4.4212 - acc: 0.1159 - val_loss: 4.4312 - val_acc: 0.1139\n",
            "Epoch 30/50\n",
            "56214/56214 [==============================] - 8s 146us/step - loss: 4.4212 - acc: 0.1159 - val_loss: 4.4308 - val_acc: 0.1139\n",
            "Epoch 31/50\n",
            "56214/56214 [==============================] - 8s 149us/step - loss: 4.4213 - acc: 0.1159 - val_loss: 4.4312 - val_acc: 0.1139\n",
            "Epoch 32/50\n",
            "56214/56214 [==============================] - 8s 147us/step - loss: 4.4213 - acc: 0.1159 - val_loss: 4.4312 - val_acc: 0.1139\n",
            "Epoch 33/50\n",
            "56214/56214 [==============================] - 8s 145us/step - loss: 4.4211 - acc: 0.1159 - val_loss: 4.4326 - val_acc: 0.1139\n",
            "Epoch 34/50\n",
            "56214/56214 [==============================] - 8s 148us/step - loss: 4.4213 - acc: 0.1159 - val_loss: 4.4311 - val_acc: 0.1139\n",
            "Epoch 35/50\n",
            "56214/56214 [==============================] - 8s 147us/step - loss: 4.4212 - acc: 0.1159 - val_loss: 4.4307 - val_acc: 0.1139\n",
            "Epoch 36/50\n",
            "56214/56214 [==============================] - 8s 145us/step - loss: 4.4211 - acc: 0.1159 - val_loss: 4.4311 - val_acc: 0.1139\n",
            "Epoch 37/50\n",
            "56214/56214 [==============================] - 8s 143us/step - loss: 4.4212 - acc: 0.1159 - val_loss: 4.4311 - val_acc: 0.1139\n",
            "Epoch 38/50\n",
            "56214/56214 [==============================] - 8s 146us/step - loss: 4.4211 - acc: 0.1159 - val_loss: 4.4312 - val_acc: 0.1139\n",
            "Epoch 39/50\n",
            "56214/56214 [==============================] - 8s 145us/step - loss: 4.4211 - acc: 0.1159 - val_loss: 4.4308 - val_acc: 0.1139\n",
            "Epoch 40/50\n",
            "56214/56214 [==============================] - 8s 142us/step - loss: 4.4212 - acc: 0.1159 - val_loss: 4.4319 - val_acc: 0.1139\n",
            "Epoch 41/50\n",
            "56214/56214 [==============================] - 8s 140us/step - loss: 4.4212 - acc: 0.1159 - val_loss: 4.4315 - val_acc: 0.1139\n",
            "Epoch 42/50\n",
            "56214/56214 [==============================] - 8s 141us/step - loss: 4.4212 - acc: 0.1159 - val_loss: 4.4311 - val_acc: 0.1139\n",
            "Epoch 43/50\n",
            "56214/56214 [==============================] - 8s 144us/step - loss: 4.4211 - acc: 0.1159 - val_loss: 4.4306 - val_acc: 0.1139\n",
            "Epoch 44/50\n",
            "56214/56214 [==============================] - 8s 145us/step - loss: 4.4210 - acc: 0.1159 - val_loss: 4.4312 - val_acc: 0.1139\n",
            "Epoch 45/50\n",
            "56214/56214 [==============================] - 8s 146us/step - loss: 4.4211 - acc: 0.1159 - val_loss: 4.4311 - val_acc: 0.1139\n",
            "Epoch 46/50\n",
            "56214/56214 [==============================] - 8s 146us/step - loss: 4.4211 - acc: 0.1159 - val_loss: 4.4312 - val_acc: 0.1139\n",
            "Epoch 47/50\n",
            "56214/56214 [==============================] - 8s 145us/step - loss: 4.4211 - acc: 0.1159 - val_loss: 4.4310 - val_acc: 0.1139\n",
            "Epoch 48/50\n",
            "56214/56214 [==============================] - 8s 146us/step - loss: 4.4212 - acc: 0.1159 - val_loss: 4.4312 - val_acc: 0.1139\n",
            "Epoch 49/50\n",
            "56214/56214 [==============================] - 8s 145us/step - loss: 4.4212 - acc: 0.1159 - val_loss: 4.4313 - val_acc: 0.1139\n",
            "Epoch 50/50\n",
            "56214/56214 [==============================] - 8s 146us/step - loss: 4.4210 - acc: 0.1159 - val_loss: 4.4312 - val_acc: 0.1139\n"
          ],
          "name": "stdout"
        }
      ]
    },
    {
      "cell_type": "code",
      "metadata": {
        "id": "H6wfKrBUlmUm",
        "colab_type": "code",
        "colab": {
          "base_uri": "https://localhost:8080/",
          "height": 283
        },
        "outputId": "39c2369c-75ab-4a92-a35c-8d01db82476c"
      },
      "source": [
        "import matplotlib.pyplot as plt\n",
        "\n",
        "plt.plot(history.history['loss'])\n",
        "plt.plot(history.history['val_loss'])\n",
        "plt.xlabel('epochs')\n",
        "plt.ylabel('loss')\n",
        "plt.show()"
      ],
      "execution_count": 353,
      "outputs": [
        {
          "output_type": "display_data",
          "data": {
            "image/png": "[encoded data removed]",
            "text/plain": [
              "<Figure size 432x288 with 1 Axes>"
            ]
          },
          "metadata": {
            "tags": []
          }
        }
      ]
    },
    {
      "cell_type": "code",
      "metadata": {
        "id": "o4mGuROEwR_h",
        "colab_type": "code",
        "colab": {}
      },
      "source": [
        "y_pred = model.predict(X_test).argmax(axis=1)"
      ],
      "execution_count": 0,
      "outputs": []
    },
    {
      "cell_type": "code",
      "metadata": {
        "id": "03L769dbwSZc",
        "colab_type": "code",
        "colab": {
          "base_uri": "https://localhost:8080/",
          "height": 88
        },
        "outputId": "5020aa4b-c8d3-4115-d2e7-dbbd87fcaf8a"
      },
      "source": [
        "f1_sc = f1_score(y_pred, y_test, average='weighted')\n",
        "print(f'f1-score result of NN: {f1_sc}')"
      ],
      "execution_count": 357,
      "outputs": [
        {
          "output_type": "stream",
          "text": [
            "f1-score result of NN: 0.20888842631140717\n"
          ],
          "name": "stdout"
        },
        {
          "output_type": "stream",
          "text": [
            "/usr/local/lib/python3.6/dist-packages/sklearn/metrics/classification.py:1439: UndefinedMetricWarning: F-score is ill-defined and being set to 0.0 in labels with no true samples.\n",
            "  'recall', 'true', average, warn_for)\n"
          ],
          "name": "stderr"
        }
      ]
    },
    {
      "cell_type": "markdown",
      "metadata": {
        "id": "zcOdF_NYy7JS",
        "colab_type": "text"
      },
      "source": [
        "### f1-score result of NN: 0.20888842631140717"
      ]
    },
    {
      "cell_type": "code",
      "metadata": {
        "id": "D4MXh1lKwSds",
        "colab_type": "code",
        "colab": {}
      },
      "source": [
        "num_classes = len(set(y_train))\n",
        "\n",
        "input = Input(shape=X_train.shape[1:])\n",
        "x = Dense(64, activation='relu')(input)\n",
        "x = Dropout(0.3)(x)\n",
        "x = Dense(32, activation='relu')(x)\n",
        "x = Dropout(0.3)(x)\n",
        "x = Dense(num_classes, activation='softmax')(x)\n",
        "model = Model(input, x)\n",
        "\n",
        "model.compile(loss=keras.losses.categorical_crossentropy,\n",
        "              optimizer=keras.optimizers.Adam(),\n",
        "              metrics=['accuracy'])\n"
      ],
      "execution_count": 0,
      "outputs": []
    },
    {
      "cell_type": "code",
      "metadata": {
        "id": "3OML9N0qwR83",
        "colab_type": "code",
        "colab": {
          "base_uri": "https://localhost:8080/",
          "height": 1000
        },
        "outputId": "13102e5f-0b0c-4864-b6f1-c1303ae264aa"
      },
      "source": [
        "history = model.fit(X_train, y_train_nn, validation_split=0.3, batch_size=64, epochs=50, verbose=1)"
      ],
      "execution_count": 359,
      "outputs": [
        {
          "output_type": "stream",
          "text": [
            "Train on 56214 samples, validate on 24092 samples\n",
            "Epoch 1/50\n",
            "56214/56214 [==============================] - 3s 48us/step - loss: 4.5542 - acc: 0.1082 - val_loss: 4.4697 - val_acc: 0.1139\n",
            "Epoch 2/50\n",
            "56214/56214 [==============================] - 2s 42us/step - loss: 4.4662 - acc: 0.1159 - val_loss: 4.4435 - val_acc: 0.1139\n",
            "Epoch 3/50\n",
            "56214/56214 [==============================] - 2s 42us/step - loss: 4.4443 - acc: 0.1159 - val_loss: 4.4319 - val_acc: 0.1139\n",
            "Epoch 4/50\n",
            "56214/56214 [==============================] - 2s 41us/step - loss: 4.4360 - acc: 0.1159 - val_loss: 4.4323 - val_acc: 0.1139\n",
            "Epoch 5/50\n",
            "56214/56214 [==============================] - 2s 41us/step - loss: 4.4337 - acc: 0.1159 - val_loss: 4.4325 - val_acc: 0.1139\n",
            "Epoch 6/50\n",
            "56214/56214 [==============================] - 2s 42us/step - loss: 4.4341 - acc: 0.1159 - val_loss: 4.4326 - val_acc: 0.1139\n",
            "Epoch 7/50\n",
            "56214/56214 [==============================] - 2s 41us/step - loss: 4.4322 - acc: 0.1159 - val_loss: 4.4318 - val_acc: 0.1139\n",
            "Epoch 8/50\n",
            "56214/56214 [==============================] - 2s 42us/step - loss: 4.4322 - acc: 0.1159 - val_loss: 4.4329 - val_acc: 0.1139\n",
            "Epoch 9/50\n",
            "56214/56214 [==============================] - 2s 42us/step - loss: 4.4313 - acc: 0.1159 - val_loss: 4.4315 - val_acc: 0.1139\n",
            "Epoch 10/50\n",
            "56214/56214 [==============================] - 2s 42us/step - loss: 4.4315 - acc: 0.1159 - val_loss: 4.4313 - val_acc: 0.1139\n",
            "Epoch 11/50\n",
            "56214/56214 [==============================] - 2s 41us/step - loss: 4.4310 - acc: 0.1159 - val_loss: 4.4326 - val_acc: 0.1139\n",
            "Epoch 12/50\n",
            "56214/56214 [==============================] - 2s 41us/step - loss: 4.4307 - acc: 0.1159 - val_loss: 4.4320 - val_acc: 0.1139\n",
            "Epoch 13/50\n",
            "56214/56214 [==============================] - 2s 42us/step - loss: 4.4293 - acc: 0.1159 - val_loss: 4.4312 - val_acc: 0.1139\n",
            "Epoch 14/50\n",
            "56214/56214 [==============================] - 2s 41us/step - loss: 4.4297 - acc: 0.1159 - val_loss: 4.4319 - val_acc: 0.1139\n",
            "Epoch 15/50\n",
            "56214/56214 [==============================] - 2s 41us/step - loss: 4.4298 - acc: 0.1159 - val_loss: 4.4319 - val_acc: 0.1139\n",
            "Epoch 16/50\n",
            "56214/56214 [==============================] - 2s 41us/step - loss: 4.4291 - acc: 0.1159 - val_loss: 4.4322 - val_acc: 0.1139\n",
            "Epoch 17/50\n",
            "56214/56214 [==============================] - 2s 42us/step - loss: 4.4285 - acc: 0.1159 - val_loss: 4.4321 - val_acc: 0.1139\n",
            "Epoch 18/50\n",
            "56214/56214 [==============================] - 2s 41us/step - loss: 4.4276 - acc: 0.1159 - val_loss: 4.4317 - val_acc: 0.1139\n",
            "Epoch 19/50\n",
            "56214/56214 [==============================] - 2s 42us/step - loss: 4.4277 - acc: 0.1159 - val_loss: 4.4316 - val_acc: 0.1139\n",
            "Epoch 20/50\n",
            "56214/56214 [==============================] - 2s 41us/step - loss: 4.4277 - acc: 0.1159 - val_loss: 4.4311 - val_acc: 0.1139\n",
            "Epoch 21/50\n",
            "56214/56214 [==============================] - 2s 41us/step - loss: 4.4271 - acc: 0.1159 - val_loss: 4.4310 - val_acc: 0.1139\n",
            "Epoch 22/50\n",
            "56214/56214 [==============================] - 2s 41us/step - loss: 4.4269 - acc: 0.1159 - val_loss: 4.4315 - val_acc: 0.1139\n",
            "Epoch 23/50\n",
            "56214/56214 [==============================] - 2s 41us/step - loss: 4.4278 - acc: 0.1159 - val_loss: 4.4315 - val_acc: 0.1139\n",
            "Epoch 24/50\n",
            "56214/56214 [==============================] - 2s 41us/step - loss: 4.4269 - acc: 0.1159 - val_loss: 4.4313 - val_acc: 0.1139\n",
            "Epoch 25/50\n",
            "56214/56214 [==============================] - 2s 40us/step - loss: 4.4264 - acc: 0.1159 - val_loss: 4.4313 - val_acc: 0.1139\n",
            "Epoch 26/50\n",
            "56214/56214 [==============================] - 2s 41us/step - loss: 4.4267 - acc: 0.1159 - val_loss: 4.4310 - val_acc: 0.1139\n",
            "Epoch 27/50\n",
            "56214/56214 [==============================] - 2s 41us/step - loss: 4.4260 - acc: 0.1159 - val_loss: 4.4306 - val_acc: 0.1139\n",
            "Epoch 28/50\n",
            "56214/56214 [==============================] - 2s 41us/step - loss: 4.4257 - acc: 0.1159 - val_loss: 4.4310 - val_acc: 0.1139\n",
            "Epoch 29/50\n",
            "56214/56214 [==============================] - 2s 41us/step - loss: 4.4254 - acc: 0.1159 - val_loss: 4.4309 - val_acc: 0.1139\n",
            "Epoch 30/50\n",
            "56214/56214 [==============================] - 2s 41us/step - loss: 4.4250 - acc: 0.1159 - val_loss: 4.4316 - val_acc: 0.1139\n",
            "Epoch 31/50\n",
            "56214/56214 [==============================] - 2s 41us/step - loss: 4.4252 - acc: 0.1159 - val_loss: 4.4308 - val_acc: 0.1139\n",
            "Epoch 32/50\n",
            "56214/56214 [==============================] - 2s 41us/step - loss: 4.4250 - acc: 0.1159 - val_loss: 4.4310 - val_acc: 0.1139\n",
            "Epoch 33/50\n",
            "56214/56214 [==============================] - 2s 40us/step - loss: 4.4251 - acc: 0.1159 - val_loss: 4.4311 - val_acc: 0.1139\n",
            "Epoch 34/50\n",
            "56214/56214 [==============================] - 2s 41us/step - loss: 4.4250 - acc: 0.1159 - val_loss: 4.4315 - val_acc: 0.1139\n",
            "Epoch 35/50\n",
            "56214/56214 [==============================] - 2s 41us/step - loss: 4.4245 - acc: 0.1159 - val_loss: 4.4309 - val_acc: 0.1139\n",
            "Epoch 36/50\n",
            "56214/56214 [==============================] - 2s 40us/step - loss: 4.4238 - acc: 0.1159 - val_loss: 4.4310 - val_acc: 0.1139\n",
            "Epoch 37/50\n",
            "56214/56214 [==============================] - 2s 40us/step - loss: 4.4238 - acc: 0.1159 - val_loss: 4.4311 - val_acc: 0.1139\n",
            "Epoch 38/50\n",
            "56214/56214 [==============================] - 2s 40us/step - loss: 4.4244 - acc: 0.1159 - val_loss: 4.4308 - val_acc: 0.1139\n",
            "Epoch 39/50\n",
            "56214/56214 [==============================] - 2s 40us/step - loss: 4.4238 - acc: 0.1159 - val_loss: 4.4312 - val_acc: 0.1139\n",
            "Epoch 40/50\n",
            "56214/56214 [==============================] - 2s 41us/step - loss: 4.4243 - acc: 0.1159 - val_loss: 4.4309 - val_acc: 0.1139\n",
            "Epoch 41/50\n",
            "56214/56214 [==============================] - 2s 40us/step - loss: 4.4240 - acc: 0.1159 - val_loss: 4.4309 - val_acc: 0.1139\n",
            "Epoch 42/50\n",
            "56214/56214 [==============================] - 2s 40us/step - loss: 4.4235 - acc: 0.1159 - val_loss: 4.4307 - val_acc: 0.1139\n",
            "Epoch 43/50\n",
            "56214/56214 [==============================] - 2s 41us/step - loss: 4.4233 - acc: 0.1159 - val_loss: 4.4309 - val_acc: 0.1139\n",
            "Epoch 44/50\n",
            "56214/56214 [==============================] - 2s 40us/step - loss: 4.4230 - acc: 0.1159 - val_loss: 4.4313 - val_acc: 0.1139\n",
            "Epoch 45/50\n",
            "56214/56214 [==============================] - 2s 41us/step - loss: 4.4236 - acc: 0.1159 - val_loss: 4.4308 - val_acc: 0.1139\n",
            "Epoch 46/50\n",
            "56214/56214 [==============================] - 2s 41us/step - loss: 4.4232 - acc: 0.1159 - val_loss: 4.4312 - val_acc: 0.1139\n",
            "Epoch 47/50\n",
            "56214/56214 [==============================] - 2s 41us/step - loss: 4.4235 - acc: 0.1159 - val_loss: 4.4308 - val_acc: 0.1139\n",
            "Epoch 48/50\n",
            "56214/56214 [==============================] - 2s 40us/step - loss: 4.4230 - acc: 0.1159 - val_loss: 4.4312 - val_acc: 0.1139\n",
            "Epoch 49/50\n",
            "56214/56214 [==============================] - 2s 40us/step - loss: 4.4227 - acc: 0.1159 - val_loss: 4.4305 - val_acc: 0.1139\n",
            "Epoch 50/50\n",
            "56214/56214 [==============================] - 2s 41us/step - loss: 4.4236 - acc: 0.1159 - val_loss: 4.4309 - val_acc: 0.1139\n"
          ],
          "name": "stdout"
        }
      ]
    },
    {
      "cell_type": "code",
      "metadata": {
        "id": "RPP9GFKowR5h",
        "colab_type": "code",
        "colab": {
          "base_uri": "https://localhost:8080/",
          "height": 283
        },
        "outputId": "8c33de15-4474-440f-fda9-13fbb80406ac"
      },
      "source": [
        "plt.plot(history.history['loss'])\n",
        "plt.plot(history.history['val_loss'])\n",
        "plt.xlabel('epochs')\n",
        "plt.ylabel('loss')\n",
        "plt.show()"
      ],
      "execution_count": 360,
      "outputs": [
        {
          "output_type": "display_data",
          "data": {
            "image/png": "[encoded data removed]",
            "text/plain": [
              "<Figure size 432x288 with 1 Axes>"
            ]
          },
          "metadata": {
            "tags": []
          }
        }
      ]
    },
    {
      "cell_type": "code",
      "metadata": {
        "id": "4mMBrlAQzT-a",
        "colab_type": "code",
        "colab": {
          "base_uri": "https://localhost:8080/",
          "height": 88
        },
        "outputId": "b73252f1-3489-4a0a-e344-6a14c95e9732"
      },
      "source": [
        "y_pred = model.predict(X_test).argmax(axis=1)\n",
        "f1_sc = f1_score(y_pred, y_test, average='weighted')\n",
        "print(f'f1-score result of NN: {f1_sc}')"
      ],
      "execution_count": 361,
      "outputs": [
        {
          "output_type": "stream",
          "text": [
            "f1-score result of NN: 0.20888842631140717\n"
          ],
          "name": "stdout"
        },
        {
          "output_type": "stream",
          "text": [
            "/usr/local/lib/python3.6/dist-packages/sklearn/metrics/classification.py:1439: UndefinedMetricWarning: F-score is ill-defined and being set to 0.0 in labels with no true samples.\n",
            "  'recall', 'true', average, warn_for)\n"
          ],
          "name": "stderr"
        }
      ]
    }
  ]
}